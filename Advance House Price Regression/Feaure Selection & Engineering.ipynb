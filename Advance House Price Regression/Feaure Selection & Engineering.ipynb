{
 "cells": [
  {
   "cell_type": "code",
   "execution_count": null,
   "id": "found-pledge",
   "metadata": {},
   "outputs": [],
   "source": [
    "import numpy as np\n",
    "import pandas as pd\n",
    "import matplotlib.pyplot as plt\n",
    "import scipy.stats as stats"
   ]
  },
  {
   "cell_type": "code",
   "execution_count": null,
   "id": "understood-wholesale",
   "metadata": {},
   "outputs": [],
   "source": [
    "df = pd.read_csv('data/train.csv')"
   ]
  },
  {
   "cell_type": "code",
   "execution_count": null,
   "id": "pressed-apache",
   "metadata": {
    "scrolled": true
   },
   "outputs": [],
   "source": [
    "df.head()"
   ]
  },
  {
   "cell_type": "markdown",
   "id": "entertaining-breathing",
   "metadata": {},
   "source": [
    "## Target"
   ]
  },
  {
   "cell_type": "code",
   "execution_count": null,
   "id": "given-violence",
   "metadata": {},
   "outputs": [],
   "source": [
    "df['SalePrice'] = np.log(df['SalePrice'])"
   ]
  },
  {
   "cell_type": "markdown",
   "id": "purple-substance",
   "metadata": {},
   "source": [
    "## Land Property\n",
    "LotFrontage, LotArea, LotShape, LandContour, LandSlope"
   ]
  },
  {
   "cell_type": "code",
   "execution_count": null,
   "id": "contemporary-mission",
   "metadata": {},
   "outputs": [],
   "source": [
    "land_features = df[['LotFrontage', 'LotArea', 'LotShape', 'LandContour', 'LandSlope']]\n",
    "land_features"
   ]
  },
  {
   "cell_type": "markdown",
   "id": "conventional-naples",
   "metadata": {},
   "source": [
    "### LotFrontage"
   ]
  },
  {
   "cell_type": "code",
   "execution_count": null,
   "id": "overall-mystery",
   "metadata": {},
   "outputs": [],
   "source": [
    "df['LotFrontage'] = df['LotFrontage'].fillna(value = df['LotFrontage'].median())"
   ]
  },
  {
   "cell_type": "code",
   "execution_count": null,
   "id": "outside-terminology",
   "metadata": {},
   "outputs": [],
   "source": [
    "df['LotFrontage'].isna().sum()"
   ]
  },
  {
   "cell_type": "code",
   "execution_count": null,
   "id": "obvious-import",
   "metadata": {},
   "outputs": [],
   "source": [
    "data = land_features.copy()"
   ]
  },
  {
   "cell_type": "code",
   "execution_count": null,
   "id": "lucky-france",
   "metadata": {},
   "outputs": [],
   "source": [
    "df['LotFrontage'] = np.log(df['LotFrontage'])"
   ]
  },
  {
   "cell_type": "code",
   "execution_count": null,
   "id": "victorian-month",
   "metadata": {},
   "outputs": [],
   "source": [
    "corr, p_val = stats.pearsonr(df['LotFrontage'], df['SalePrice'])\n",
    "print(\"corr : \", corr, \"\\np_val : \", p_val)"
   ]
  },
  {
   "cell_type": "code",
   "execution_count": null,
   "id": "hollywood-syndicate",
   "metadata": {},
   "outputs": [],
   "source": [
    "p_val < 0.05"
   ]
  },
  {
   "cell_type": "markdown",
   "id": "weighted-tracy",
   "metadata": {},
   "source": [
    "### LotArea"
   ]
  },
  {
   "cell_type": "code",
   "execution_count": null,
   "id": "vietnamese-opera",
   "metadata": {},
   "outputs": [],
   "source": [
    "df['LotArea'] = np.log(df['LotArea'])"
   ]
  },
  {
   "cell_type": "code",
   "execution_count": null,
   "id": "quantitative-montgomery",
   "metadata": {},
   "outputs": [],
   "source": [
    "df[['LotArea', 'LotFrontage', 'SalePrice']].corr()"
   ]
  },
  {
   "cell_type": "code",
   "execution_count": null,
   "id": "honest-invalid",
   "metadata": {},
   "outputs": [],
   "source": [
    "corr, p_val = stats.pearsonr(df['LotArea'], df['SalePrice'])\n",
    "print(\"corr : \", corr, \"\\np_val : \", p_val)"
   ]
  },
  {
   "cell_type": "code",
   "execution_count": null,
   "id": "judicial-japanese",
   "metadata": {},
   "outputs": [],
   "source": [
    "p_val < 0.05"
   ]
  },
  {
   "cell_type": "markdown",
   "id": "traditional-catalog",
   "metadata": {},
   "source": [
    "### Checking Corr between independent features"
   ]
  },
  {
   "cell_type": "code",
   "execution_count": null,
   "id": "complex-durham",
   "metadata": {},
   "outputs": [],
   "source": [
    "df[['LotArea', 'LotFrontage']].corr()"
   ]
  },
  {
   "cell_type": "markdown",
   "id": "posted-scene",
   "metadata": {},
   "source": [
    "Drop Lot Frontage"
   ]
  },
  {
   "cell_type": "code",
   "execution_count": null,
   "id": "guided-protein",
   "metadata": {},
   "outputs": [],
   "source": []
  },
  {
   "cell_type": "code",
   "execution_count": null,
   "id": "weighted-fireplace",
   "metadata": {},
   "outputs": [],
   "source": []
  },
  {
   "cell_type": "code",
   "execution_count": null,
   "id": "internal-parks",
   "metadata": {},
   "outputs": [],
   "source": [
    "df['LotShape'].unique()"
   ]
  },
  {
   "cell_type": "code",
   "execution_count": null,
   "id": "critical-schema",
   "metadata": {},
   "outputs": [],
   "source": [
    "g1 = df[df['LotShape'] == 'Reg']['SalePrice']\n",
    "g2 = df[df['LotShape'] == 'IR1']['SalePrice']\n",
    "g3 = df[df['LotShape'] == 'IR2']['SalePrice']\n",
    "g4 = df[df['LotShape'] == 'IR3']['SalePrice']"
   ]
  },
  {
   "cell_type": "code",
   "execution_count": null,
   "id": "powerful-initial",
   "metadata": {},
   "outputs": [],
   "source": [
    "f_stat, p_val = stats.f_oneway(g1, g2, g3, g4)\n",
    "print(f_stat, p_val)"
   ]
  },
  {
   "cell_type": "code",
   "execution_count": null,
   "id": "weekly-internship",
   "metadata": {},
   "outputs": [],
   "source": [
    "p_val < 0.05"
   ]
  },
  {
   "cell_type": "code",
   "execution_count": null,
   "id": "potential-branch",
   "metadata": {},
   "outputs": [],
   "source": [
    "df['LandSlope'].unique()"
   ]
  },
  {
   "cell_type": "code",
   "execution_count": null,
   "id": "discrete-ivory",
   "metadata": {},
   "outputs": [],
   "source": [
    "g1 = df[df['LandSlope'] == 'Gtl']['LotArea']\n",
    "g2 = df[df['LandSlope'] == 'Mod']['LotArea']\n",
    "g3 = df[df['LandSlope'] == 'Sev']['LotArea']"
   ]
  },
  {
   "cell_type": "code",
   "execution_count": null,
   "id": "electronic-gamma",
   "metadata": {},
   "outputs": [],
   "source": [
    "f_stat, p_val = stats.f_oneway(g1, g2, g3, g4)\n",
    "print(f_stat, p_val)"
   ]
  },
  {
   "cell_type": "code",
   "execution_count": null,
   "id": "occasional-rachel",
   "metadata": {},
   "outputs": [],
   "source": []
  },
  {
   "cell_type": "markdown",
   "id": "military-denver",
   "metadata": {},
   "source": [
    "# Basement Features\n"
   ]
  },
  {
   "cell_type": "code",
   "execution_count": null,
   "id": "remarkable-batman",
   "metadata": {},
   "outputs": [],
   "source": [
    "basement_features = df[['BsmtQual',\n",
    "'BsmtCond',\n",
    "'BsmtExposure',\n",
    "'BsmtFinType1',\n",
    "'BsmtFinSF1',\n",
    "'BsmtFinType2',\n",
    "'BsmtFinSF2',\n",
    "'BsmtUnfSF',\n",
    "'TotalBsmtSF',\n",
    "'BsmtFullBath',\n",
    "'BsmtHalfBath',]]"
   ]
  },
  {
   "cell_type": "code",
   "execution_count": null,
   "id": "assigned-studio",
   "metadata": {},
   "outputs": [],
   "source": [
    "basement_features"
   ]
  },
  {
   "cell_type": "code",
   "execution_count": null,
   "id": "aquatic-northeast",
   "metadata": {},
   "outputs": [],
   "source": [
    "data = basement_features.copy()"
   ]
  },
  {
   "cell_type": "code",
   "execution_count": null,
   "id": "representative-republican",
   "metadata": {},
   "outputs": [],
   "source": [
    "plt.hist(df['BsmtFinSF1'], bins = 40)\n",
    "plt.show()"
   ]
  },
  {
   "cell_type": "code",
   "execution_count": null,
   "id": "laughing-delivery",
   "metadata": {},
   "outputs": [],
   "source": [
    "corr, p_val = stats.pearsonr(df['BsmtFinSF1'], df['TotalBsmtSF'])\n",
    "print(corr, p_val)"
   ]
  },
  {
   "cell_type": "code",
   "execution_count": null,
   "id": "first-kennedy",
   "metadata": {},
   "outputs": [],
   "source": [
    "p_val < 0.05"
   ]
  },
  {
   "cell_type": "code",
   "execution_count": null,
   "id": "developmental-payroll",
   "metadata": {},
   "outputs": [],
   "source": [
    "df['BsmtFullBath'].unique()"
   ]
  },
  {
   "cell_type": "code",
   "execution_count": null,
   "id": "electric-roman",
   "metadata": {},
   "outputs": [],
   "source": [
    "df['BsmtQual'] = df['BsmtQual'].fillna(value = 'No Basement')\n",
    "df['BsmtCond'] = df['BsmtCond'].fillna(value = 'No Basement')\n",
    "df['BsmtExposure'] = df['BsmtExposure'].fillna(value = 'No Basement')\n",
    "df['BsmtFinType2'] = df['BsmtFinType2'].fillna(value = 'No Basement')\n"
   ]
  },
  {
   "cell_type": "code",
   "execution_count": 17,
   "id": "dress-married",
   "metadata": {},
   "outputs": [],
   "source": [
    "\n",
    "def anova_groups(d_feature, c_feature, ignore = ''):\n",
    "    groups = []\n",
    "    for cat in df[d_feature].unique():\n",
    "        if cat != ignore:\n",
    "            print(cat)\n",
    "            df[df[d_feature] == cat][c_feature]\n",
    "            groups.append(df[df[d_feature] == cat][c_feature])\n",
    "\n",
    "    return groups\n",
    "    \n",
    "    "
   ]
  },
  {
   "cell_type": "code",
   "execution_count": null,
   "id": "baking-messaging",
   "metadata": {},
   "outputs": [],
   "source": [
    "groups = anova_groups(d_feature = 'KitchenQual', c_feature = 'SalePrice')"
   ]
  },
  {
   "cell_type": "code",
   "execution_count": null,
   "id": "maritime-navigation",
   "metadata": {},
   "outputs": [],
   "source": [
    "f_stat, p_val = stats.f_oneway(groups[0], groups[1], groups[2])\n",
    "print(f_stat, p_val)"
   ]
  },
  {
   "cell_type": "markdown",
   "id": "secondary-malaysia",
   "metadata": {},
   "source": [
    "BasementQual\n",
    "300.3923243191743 2.031281939790327e-188\n",
    "\n",
    "BsmtCond\n",
    "34.504086533842255 1.4927541408939521e-27\n",
    "\n",
    "BsmtExposure\n",
    "60.49458686046996 2.590707192162915e-47\n",
    "\n",
    "BsmtHalfBath\n",
    "0.030936149052788492 0.9695381138187172\n",
    "\n",
    "BsmtFinType2\n",
    "29.61917200515036 2.6062698303303355e-13\n",
    "\n",
    "BsmtFullBath\n",
    "29.595109471751318 1.4248324941269371e-18\n",
    "\n",
    "KitchenQual\n",
    "569.1052396037583 3.568211071739858e-182\n",
    "\n"
   ]
  },
  {
   "cell_type": "code",
   "execution_count": null,
   "id": "accurate-census",
   "metadata": {},
   "outputs": [],
   "source": []
  },
  {
   "cell_type": "code",
   "execution_count": null,
   "id": "likely-survey",
   "metadata": {},
   "outputs": [],
   "source": []
  },
  {
   "cell_type": "code",
   "execution_count": null,
   "id": "finished-child",
   "metadata": {},
   "outputs": [],
   "source": []
  },
  {
   "cell_type": "code",
   "execution_count": null,
   "id": "agreed-position",
   "metadata": {},
   "outputs": [],
   "source": [
    "observed = pd.crosstab(\n",
    "    df[df['BsmtQual'] != 'No Basement']['BsmtQual'], \n",
    "    df[df['BsmtExposure'] != 'No Basement' ]['BsmtExposure']\n",
    ")\n",
    "observed"
   ]
  },
  {
   "cell_type": "code",
   "execution_count": null,
   "id": "second-giving",
   "metadata": {},
   "outputs": [],
   "source": [
    "chi2_stats, p_val, dof, expected = stats.chi2_contingency(observed)"
   ]
  },
  {
   "cell_type": "code",
   "execution_count": null,
   "id": "allied-daniel",
   "metadata": {},
   "outputs": [],
   "source": [
    "expected < 5"
   ]
  },
  {
   "cell_type": "code",
   "execution_count": null,
   "id": "macro-episode",
   "metadata": {},
   "outputs": [],
   "source": [
    "p_val"
   ]
  },
  {
   "cell_type": "code",
   "execution_count": null,
   "id": "lonely-spiritual",
   "metadata": {},
   "outputs": [],
   "source": []
  },
  {
   "cell_type": "markdown",
   "id": "minus-halloween",
   "metadata": {},
   "source": [
    "# Building Property"
   ]
  },
  {
   "cell_type": "code",
   "execution_count": null,
   "id": "noted-institution",
   "metadata": {},
   "outputs": [],
   "source": [
    "building_properties = df[[\n",
    "    'BldgType',\n",
    "    'RoofStyle',\n",
    "    'RoofMatl',\n",
    "    '1stFlrSF',\n",
    "    '2ndFlrSF',\n",
    "    'LowQualFinSF',\n",
    "    'GrLivArea',\n",
    "    'FullBath',\n",
    "    'HalfBath',\n",
    "    'BedroomAbvGr',\n",
    "    'KitchenAbvGr',\n",
    "    'KitchenQual',\n",
    "    'Fence'\n",
    "]]"
   ]
  },
  {
   "cell_type": "code",
   "execution_count": null,
   "id": "aquatic-potter",
   "metadata": {},
   "outputs": [],
   "source": [
    "building_properties.head()"
   ]
  },
  {
   "cell_type": "code",
   "execution_count": null,
   "id": "italian-cannon",
   "metadata": {},
   "outputs": [],
   "source": [
    "df['BldgType'].unique()"
   ]
  },
  {
   "cell_type": "code",
   "execution_count": null,
   "id": "working-estonia",
   "metadata": {},
   "outputs": [],
   "source": [
    "groups = anova_groups(d_feature = 'BsmtCond', c_feature = 'SalePrice', ignore = '')"
   ]
  },
  {
   "cell_type": "code",
   "execution_count": null,
   "id": "honest-infrastructure",
   "metadata": {},
   "outputs": [],
   "source": [
    "f_stat, p_val = stats.f_oneway(groups[0], groups[1], groups[2], groups[3], groups[4])\n",
    "print(f_stat, p_val)"
   ]
  },
  {
   "cell_type": "markdown",
   "id": "unknown-remains",
   "metadata": {},
   "source": []
  },
  {
   "cell_type": "code",
   "execution_count": null,
   "id": "extended-subscriber",
   "metadata": {},
   "outputs": [],
   "source": [
    "df['Fence'] = df['Fence'].fillna('0')"
   ]
  },
  {
   "cell_type": "code",
   "execution_count": null,
   "id": "civilian-charge",
   "metadata": {},
   "outputs": [],
   "source": [
    "df.loc[df['Fence'] != '0', 'Fence'] = '1'"
   ]
  },
  {
   "cell_type": "code",
   "execution_count": null,
   "id": "saving-discretion",
   "metadata": {
    "scrolled": false
   },
   "outputs": [],
   "source": [
    "feature = 'Fence'\n",
    "df.groupby(feature)['SalePrice'].median().plot.bar()\n",
    "plt.xlabel(feature)\n",
    "plt.ylabel('Sale Price')\n",
    "plt.title(feature)\n",
    "plt.show()"
   ]
  },
  {
   "cell_type": "code",
   "execution_count": null,
   "id": "racial-universe",
   "metadata": {},
   "outputs": [],
   "source": [
    "df['BsmtExposure'].value_counts()"
   ]
  },
  {
   "cell_type": "code",
   "execution_count": null,
   "id": "native-chrome",
   "metadata": {},
   "outputs": [],
   "source": [
    "observed = pd.crosstab(df['RoofStyle'], df['RoofMatl'])\n",
    "observed"
   ]
  },
  {
   "cell_type": "code",
   "execution_count": null,
   "id": "acute-orlando",
   "metadata": {},
   "outputs": [],
   "source": [
    "df['RoofStyle'].unique()"
   ]
  },
  {
   "cell_type": "code",
   "execution_count": null,
   "id": "operational-package",
   "metadata": {},
   "outputs": [],
   "source": [
    "chi2_stats, p_val, dof, expected = stats.chi2_contingency(observed)"
   ]
  },
  {
   "cell_type": "code",
   "execution_count": null,
   "id": "wrapped-light",
   "metadata": {},
   "outputs": [],
   "source": [
    "expected < 5"
   ]
  },
  {
   "cell_type": "code",
   "execution_count": null,
   "id": "signed-manhattan",
   "metadata": {},
   "outputs": [],
   "source": [
    "p_val < 0.05"
   ]
  },
  {
   "cell_type": "code",
   "execution_count": null,
   "id": "rational-apache",
   "metadata": {},
   "outputs": [],
   "source": [
    "df.loc[df['RoofStyle'] != 'Gable', 'RoofStyle'] = 'Others'"
   ]
  },
  {
   "cell_type": "code",
   "execution_count": null,
   "id": "cathedral-vietnamese",
   "metadata": {},
   "outputs": [],
   "source": [
    "df.loc[df['RoofMatl'] != 'CompShg', 'RoofMatl'] = 'Others'"
   ]
  },
  {
   "cell_type": "code",
   "execution_count": null,
   "id": "friendly-destiny",
   "metadata": {},
   "outputs": [],
   "source": [
    "observed"
   ]
  },
  {
   "cell_type": "code",
   "execution_count": null,
   "id": "swiss-effect",
   "metadata": {},
   "outputs": [],
   "source": [
    "g1 = df[df['RoofStyle'] == 'Gable']['SalePrice']\n",
    "g2 = df[df['RoofStyle'] == 'Others']['SalePrice']"
   ]
  },
  {
   "cell_type": "code",
   "execution_count": null,
   "id": "realistic-release",
   "metadata": {
    "scrolled": true
   },
   "outputs": [],
   "source": [
    "t_stat, p_value = stats.ttest_ind(g1, g2)\n",
    "print(t_stat, p_val)"
   ]
  },
  {
   "cell_type": "code",
   "execution_count": null,
   "id": "geological-salmon",
   "metadata": {
    "scrolled": false
   },
   "outputs": [],
   "source": [
    "corr, p_val = stats.pearsonr(,)\n",
    "print(corr, p_val)"
   ]
  },
  {
   "cell_type": "code",
   "execution_count": null,
   "id": "sufficient-anthony",
   "metadata": {},
   "outputs": [],
   "source": []
  },
  {
   "cell_type": "code",
   "execution_count": null,
   "id": "focal-concentrate",
   "metadata": {},
   "outputs": [],
   "source": []
  },
  {
   "cell_type": "code",
   "execution_count": null,
   "id": "interim-catalog",
   "metadata": {},
   "outputs": [],
   "source": []
  },
  {
   "cell_type": "code",
   "execution_count": null,
   "id": "entitled-winning",
   "metadata": {},
   "outputs": [],
   "source": []
  },
  {
   "cell_type": "markdown",
   "id": "chubby-literacy",
   "metadata": {},
   "source": [
    "BldgType\n",
    "15.211667391724271 3.4367936403015973e-12\n",
    "\n",
    "BsmtCond\n",
    "19.70813904568719 8.195793756122466e-16\n",
    "\n",
    "Fence\n",
    "16.10290232659194 6.560318639536422e-13\n",
    "\n",
    "GrLivArea\n",
    "0.7086244776126521 4.518033646779945e-223\n",
    "\n",
    "1stFlrSF\n",
    "0.6058521846919146 5.394710618971284e-147\n",
    "\n",
    "2ndFlrSF\n",
    "0.3193338028320678 5.764335119183061e-36"
   ]
  },
  {
   "cell_type": "code",
   "execution_count": null,
   "id": "conditional-chile",
   "metadata": {},
   "outputs": [],
   "source": []
  },
  {
   "cell_type": "code",
   "execution_count": null,
   "id": "aware-compound",
   "metadata": {},
   "outputs": [],
   "source": []
  },
  {
   "cell_type": "markdown",
   "id": "earned-eight",
   "metadata": {},
   "source": [
    "## Heating & Airconditioning"
   ]
  },
  {
   "cell_type": "code",
   "execution_count": 5,
   "id": "going-convergence",
   "metadata": {},
   "outputs": [],
   "source": [
    "ha = df[['Heating', 'CentralAir','Electrical','Fireplaces','FireplaceQu']].copy()"
   ]
  },
  {
   "cell_type": "code",
   "execution_count": 6,
   "id": "descending-ceramic",
   "metadata": {
    "scrolled": true
   },
   "outputs": [
    {
     "data": {
      "text/html": [
       "<div>\n",
       "<style scoped>\n",
       "    .dataframe tbody tr th:only-of-type {\n",
       "        vertical-align: middle;\n",
       "    }\n",
       "\n",
       "    .dataframe tbody tr th {\n",
       "        vertical-align: top;\n",
       "    }\n",
       "\n",
       "    .dataframe thead th {\n",
       "        text-align: right;\n",
       "    }\n",
       "</style>\n",
       "<table border=\"1\" class=\"dataframe\">\n",
       "  <thead>\n",
       "    <tr style=\"text-align: right;\">\n",
       "      <th></th>\n",
       "      <th>Heating</th>\n",
       "      <th>CentralAir</th>\n",
       "      <th>Electrical</th>\n",
       "      <th>Fireplaces</th>\n",
       "      <th>FireplaceQu</th>\n",
       "    </tr>\n",
       "  </thead>\n",
       "  <tbody>\n",
       "    <tr>\n",
       "      <th>0</th>\n",
       "      <td>GasA</td>\n",
       "      <td>Y</td>\n",
       "      <td>SBrkr</td>\n",
       "      <td>0</td>\n",
       "      <td>NaN</td>\n",
       "    </tr>\n",
       "    <tr>\n",
       "      <th>1</th>\n",
       "      <td>GasA</td>\n",
       "      <td>Y</td>\n",
       "      <td>SBrkr</td>\n",
       "      <td>1</td>\n",
       "      <td>TA</td>\n",
       "    </tr>\n",
       "    <tr>\n",
       "      <th>2</th>\n",
       "      <td>GasA</td>\n",
       "      <td>Y</td>\n",
       "      <td>SBrkr</td>\n",
       "      <td>1</td>\n",
       "      <td>TA</td>\n",
       "    </tr>\n",
       "    <tr>\n",
       "      <th>3</th>\n",
       "      <td>GasA</td>\n",
       "      <td>Y</td>\n",
       "      <td>SBrkr</td>\n",
       "      <td>1</td>\n",
       "      <td>Gd</td>\n",
       "    </tr>\n",
       "    <tr>\n",
       "      <th>4</th>\n",
       "      <td>GasA</td>\n",
       "      <td>Y</td>\n",
       "      <td>SBrkr</td>\n",
       "      <td>1</td>\n",
       "      <td>TA</td>\n",
       "    </tr>\n",
       "  </tbody>\n",
       "</table>\n",
       "</div>"
      ],
      "text/plain": [
       "  Heating CentralAir Electrical  Fireplaces FireplaceQu\n",
       "0    GasA          Y      SBrkr           0         NaN\n",
       "1    GasA          Y      SBrkr           1          TA\n",
       "2    GasA          Y      SBrkr           1          TA\n",
       "3    GasA          Y      SBrkr           1          Gd\n",
       "4    GasA          Y      SBrkr           1          TA"
      ]
     },
     "execution_count": 6,
     "metadata": {},
     "output_type": "execute_result"
    }
   ],
   "source": [
    "ha.head()"
   ]
  },
  {
   "cell_type": "markdown",
   "id": "minor-flush",
   "metadata": {},
   "source": [
    "### Heating"
   ]
  },
  {
   "cell_type": "code",
   "execution_count": 7,
   "id": "likely-survivor",
   "metadata": {},
   "outputs": [
    {
     "data": {
      "text/plain": [
       "0"
      ]
     },
     "execution_count": 7,
     "metadata": {},
     "output_type": "execute_result"
    }
   ],
   "source": [
    "ha['Heating'].isna().sum()"
   ]
  },
  {
   "cell_type": "code",
   "execution_count": 9,
   "id": "resident-canvas",
   "metadata": {},
   "outputs": [
    {
     "data": {
      "text/plain": [
       "array(['GasA', 'GasW', 'Grav', 'Wall', 'OthW', 'Floor'], dtype=object)"
      ]
     },
     "execution_count": 9,
     "metadata": {},
     "output_type": "execute_result"
    }
   ],
   "source": [
    "df['Heating'].unique()"
   ]
  },
  {
   "cell_type": "code",
   "execution_count": 10,
   "id": "affected-brunswick",
   "metadata": {},
   "outputs": [
    {
     "data": {
      "text/plain": [
       "GasA     1428\n",
       "GasW       18\n",
       "Grav        7\n",
       "Wall        4\n",
       "OthW        2\n",
       "Floor       1\n",
       "Name: Heating, dtype: int64"
      ]
     },
     "execution_count": 10,
     "metadata": {},
     "output_type": "execute_result"
    }
   ],
   "source": [
    "ha.Heating.value_counts()"
   ]
  },
  {
   "cell_type": "markdown",
   "id": "above-respondent",
   "metadata": {},
   "source": [
    "### Central AIr"
   ]
  },
  {
   "cell_type": "code",
   "execution_count": 11,
   "id": "vital-comparison",
   "metadata": {},
   "outputs": [
    {
     "data": {
      "text/plain": [
       "0"
      ]
     },
     "execution_count": 11,
     "metadata": {},
     "output_type": "execute_result"
    }
   ],
   "source": [
    "df['CentralAir'].isna().sum()"
   ]
  },
  {
   "cell_type": "code",
   "execution_count": 12,
   "id": "unavailable-ribbon",
   "metadata": {},
   "outputs": [
    {
     "data": {
      "text/plain": [
       "Y    1365\n",
       "N      95\n",
       "Name: CentralAir, dtype: int64"
      ]
     },
     "execution_count": 12,
     "metadata": {},
     "output_type": "execute_result"
    }
   ],
   "source": [
    "df['CentralAir'].value_counts()"
   ]
  },
  {
   "cell_type": "markdown",
   "id": "pleasant-strengthening",
   "metadata": {},
   "source": [
    "### Electrical"
   ]
  },
  {
   "cell_type": "code",
   "execution_count": 13,
   "id": "under-bahrain",
   "metadata": {},
   "outputs": [
    {
     "data": {
      "text/plain": [
       "1"
      ]
     },
     "execution_count": 13,
     "metadata": {},
     "output_type": "execute_result"
    }
   ],
   "source": [
    "df['Electrical'].isna().sum()"
   ]
  },
  {
   "cell_type": "code",
   "execution_count": 14,
   "id": "alert-jumping",
   "metadata": {},
   "outputs": [
    {
     "data": {
      "text/plain": [
       "SBrkr    1334\n",
       "FuseA      94\n",
       "FuseF      27\n",
       "FuseP       3\n",
       "Mix         1\n",
       "Name: Electrical, dtype: int64"
      ]
     },
     "execution_count": 14,
     "metadata": {},
     "output_type": "execute_result"
    }
   ],
   "source": [
    "df['Electrical'].value_counts()"
   ]
  },
  {
   "cell_type": "markdown",
   "id": "positive-democrat",
   "metadata": {},
   "source": [
    "### Fireplaces"
   ]
  },
  {
   "cell_type": "code",
   "execution_count": 15,
   "id": "literary-links",
   "metadata": {},
   "outputs": [
    {
     "data": {
      "text/plain": [
       "0"
      ]
     },
     "execution_count": 15,
     "metadata": {},
     "output_type": "execute_result"
    }
   ],
   "source": [
    "df['Fireplaces'].isna().sum()"
   ]
  },
  {
   "cell_type": "code",
   "execution_count": 16,
   "id": "mathematical-reach",
   "metadata": {},
   "outputs": [
    {
     "data": {
      "text/plain": [
       "0    690\n",
       "1    650\n",
       "2    115\n",
       "3      5\n",
       "Name: Fireplaces, dtype: int64"
      ]
     },
     "execution_count": 16,
     "metadata": {},
     "output_type": "execute_result"
    }
   ],
   "source": [
    "df['Fireplaces'].value_counts()"
   ]
  },
  {
   "cell_type": "code",
   "execution_count": 18,
   "id": "experimental-kazakhstan",
   "metadata": {},
   "outputs": [
    {
     "name": "stdout",
     "output_type": "stream",
     "text": [
      "0\n",
      "1\n",
      "2\n",
      "3\n"
     ]
    }
   ],
   "source": [
    "groups = anova_groups(d_feature = 'Fireplaces', c_feature = 'SalePrice', ignore = '')"
   ]
  },
  {
   "cell_type": "code",
   "execution_count": 19,
   "id": "current-hospital",
   "metadata": {},
   "outputs": [
    {
     "name": "stdout",
     "output_type": "stream",
     "text": [
      "146.74117584536646 4.4210010307257784e-83\n"
     ]
    }
   ],
   "source": [
    "f_stat, p_val = stats.f_oneway(groups[0], groups[1], groups[2], groups[3])\n",
    "print(f_stat, p_val)"
   ]
  },
  {
   "cell_type": "code",
   "execution_count": 20,
   "id": "several-monthly",
   "metadata": {},
   "outputs": [],
   "source": [
    "df.loc[df['Fireplaces'] != 0, 'Fireplaces'] = 1"
   ]
  },
  {
   "cell_type": "code",
   "execution_count": 21,
   "id": "sophisticated-damage",
   "metadata": {},
   "outputs": [
    {
     "data": {
      "text/plain": [
       "1    770\n",
       "0    690\n",
       "Name: Fireplaces, dtype: int64"
      ]
     },
     "execution_count": 21,
     "metadata": {},
     "output_type": "execute_result"
    }
   ],
   "source": [
    "df['Fireplaces'].value_counts()"
   ]
  },
  {
   "cell_type": "code",
   "execution_count": 22,
   "id": "greater-found",
   "metadata": {},
   "outputs": [
    {
     "name": "stdout",
     "output_type": "stream",
     "text": [
      "-20.438125225454556 4.4210010307257784e-83\n"
     ]
    }
   ],
   "source": [
    "g1 = df[df['Fireplaces'] == 0]['SalePrice']\n",
    "g2 = df[df['Fireplaces'] == 1]['SalePrice']\n",
    "t_stat, p_value = stats.ttest_ind(g1, g2)\n",
    "print(t_stat, p_val)"
   ]
  },
  {
   "cell_type": "markdown",
   "id": "ahead-seminar",
   "metadata": {},
   "source": []
  },
  {
   "cell_type": "markdown",
   "id": "comic-technician",
   "metadata": {},
   "source": [
    "### FireplaceQu"
   ]
  },
  {
   "cell_type": "code",
   "execution_count": 23,
   "id": "consolidated-rebate",
   "metadata": {},
   "outputs": [
    {
     "data": {
      "text/plain": [
       "690"
      ]
     },
     "execution_count": 23,
     "metadata": {},
     "output_type": "execute_result"
    }
   ],
   "source": [
    "df['FireplaceQu'].isna().sum()"
   ]
  },
  {
   "cell_type": "code",
   "execution_count": 24,
   "id": "boolean-strip",
   "metadata": {},
   "outputs": [
    {
     "data": {
      "text/plain": [
       "Gd    380\n",
       "TA    313\n",
       "Fa     33\n",
       "Ex     24\n",
       "Po     20\n",
       "Name: FireplaceQu, dtype: int64"
      ]
     },
     "execution_count": 24,
     "metadata": {},
     "output_type": "execute_result"
    }
   ],
   "source": [
    "df['FireplaceQu'].value_counts()"
   ]
  },
  {
   "cell_type": "code",
   "execution_count": 26,
   "id": "inside-nicholas",
   "metadata": {},
   "outputs": [],
   "source": [
    "df['FireplaceQu'] = df['FireplaceQu'].fillna(value = 'Unknown')"
   ]
  },
  {
   "cell_type": "code",
   "execution_count": 27,
   "id": "worse-chain",
   "metadata": {},
   "outputs": [
    {
     "data": {
      "text/plain": [
       "Unknown    690\n",
       "Gd         380\n",
       "TA         313\n",
       "Fa          33\n",
       "Ex          24\n",
       "Po          20\n",
       "Name: FireplaceQu, dtype: int64"
      ]
     },
     "execution_count": 27,
     "metadata": {},
     "output_type": "execute_result"
    }
   ],
   "source": [
    "df['FireplaceQu'].value_counts()"
   ]
  },
  {
   "cell_type": "code",
   "execution_count": 28,
   "id": "objective-madonna",
   "metadata": {},
   "outputs": [
    {
     "name": "stdout",
     "output_type": "stream",
     "text": [
      "Unknown\n",
      "TA\n",
      "Gd\n",
      "Fa\n",
      "Ex\n",
      "Po\n"
     ]
    }
   ],
   "source": [
    "groups = anova_groups(d_feature = 'FireplaceQu', c_feature = 'SalePrice', ignore = '')"
   ]
  },
  {
   "cell_type": "code",
   "execution_count": 30,
   "id": "strong-response",
   "metadata": {},
   "outputs": [
    {
     "name": "stdout",
     "output_type": "stream",
     "text": [
      "121.07512126691806 2.9712169727633336e-107\n"
     ]
    }
   ],
   "source": [
    "f_stat, p_val = stats.f_oneway(groups[0], groups[1], groups[2], groups[3], groups[4], groups[5])\n",
    "print(f_stat, p_val)"
   ]
  },
  {
   "cell_type": "code",
   "execution_count": null,
   "id": "declared-metabolism",
   "metadata": {},
   "outputs": [],
   "source": []
  },
  {
   "cell_type": "markdown",
   "id": "cordless-large",
   "metadata": {},
   "source": [
    "### Checking Corr Between Fireplaces and FIreplaceQu"
   ]
  },
  {
   "cell_type": "code",
   "execution_count": 31,
   "id": "violent-entertainment",
   "metadata": {},
   "outputs": [
    {
     "data": {
      "text/html": [
       "<div>\n",
       "<style scoped>\n",
       "    .dataframe tbody tr th:only-of-type {\n",
       "        vertical-align: middle;\n",
       "    }\n",
       "\n",
       "    .dataframe tbody tr th {\n",
       "        vertical-align: top;\n",
       "    }\n",
       "\n",
       "    .dataframe thead th {\n",
       "        text-align: right;\n",
       "    }\n",
       "</style>\n",
       "<table border=\"1\" class=\"dataframe\">\n",
       "  <thead>\n",
       "    <tr style=\"text-align: right;\">\n",
       "      <th>FireplaceQu</th>\n",
       "      <th>Ex</th>\n",
       "      <th>Fa</th>\n",
       "      <th>Gd</th>\n",
       "      <th>Po</th>\n",
       "      <th>TA</th>\n",
       "      <th>Unknown</th>\n",
       "    </tr>\n",
       "    <tr>\n",
       "      <th>Fireplaces</th>\n",
       "      <th></th>\n",
       "      <th></th>\n",
       "      <th></th>\n",
       "      <th></th>\n",
       "      <th></th>\n",
       "      <th></th>\n",
       "    </tr>\n",
       "  </thead>\n",
       "  <tbody>\n",
       "    <tr>\n",
       "      <th>0</th>\n",
       "      <td>0</td>\n",
       "      <td>0</td>\n",
       "      <td>0</td>\n",
       "      <td>0</td>\n",
       "      <td>0</td>\n",
       "      <td>690</td>\n",
       "    </tr>\n",
       "    <tr>\n",
       "      <th>1</th>\n",
       "      <td>24</td>\n",
       "      <td>33</td>\n",
       "      <td>380</td>\n",
       "      <td>20</td>\n",
       "      <td>313</td>\n",
       "      <td>0</td>\n",
       "    </tr>\n",
       "  </tbody>\n",
       "</table>\n",
       "</div>"
      ],
      "text/plain": [
       "FireplaceQu  Ex  Fa   Gd  Po   TA  Unknown\n",
       "Fireplaces                                \n",
       "0             0   0    0   0    0      690\n",
       "1            24  33  380  20  313        0"
      ]
     },
     "execution_count": 31,
     "metadata": {},
     "output_type": "execute_result"
    }
   ],
   "source": [
    "observed = pd.crosstab(df['Fireplaces'], df['FireplaceQu'])\n",
    "observed"
   ]
  },
  {
   "cell_type": "code",
   "execution_count": 32,
   "id": "statutory-determination",
   "metadata": {},
   "outputs": [],
   "source": [
    "stat, p_val, dof, exp = stats.chi2_contingency(observed)"
   ]
  },
  {
   "cell_type": "code",
   "execution_count": 33,
   "id": "violent-effort",
   "metadata": {},
   "outputs": [
    {
     "data": {
      "text/plain": [
       "5"
      ]
     },
     "execution_count": 33,
     "metadata": {},
     "output_type": "execute_result"
    }
   ],
   "source": [
    "dof"
   ]
  },
  {
   "cell_type": "code",
   "execution_count": 36,
   "id": "established-threshold",
   "metadata": {},
   "outputs": [
    {
     "data": {
      "text/plain": [
       "array([[ True,  True,  True,  True,  True,  True],\n",
       "       [ True,  True,  True,  True,  True,  True]])"
      ]
     },
     "execution_count": 36,
     "metadata": {},
     "output_type": "execute_result"
    }
   ],
   "source": [
    "exp > 5"
   ]
  },
  {
   "cell_type": "code",
   "execution_count": 37,
   "id": "thermal-airplane",
   "metadata": {},
   "outputs": [
    {
     "data": {
      "text/plain": [
       "0.0"
      ]
     },
     "execution_count": 37,
     "metadata": {},
     "output_type": "execute_result"
    }
   ],
   "source": [
    "p_val"
   ]
  },
  {
   "cell_type": "code",
   "execution_count": null,
   "id": "parliamentary-cleaner",
   "metadata": {},
   "outputs": [],
   "source": []
  }
 ],
 "metadata": {
  "kernelspec": {
   "display_name": "Python 3",
   "language": "python",
   "name": "python3"
  },
  "language_info": {
   "codemirror_mode": {
    "name": "ipython",
    "version": 3
   },
   "file_extension": ".py",
   "mimetype": "text/x-python",
   "name": "python",
   "nbconvert_exporter": "python",
   "pygments_lexer": "ipython3",
   "version": "3.9.5"
  }
 },
 "nbformat": 4,
 "nbformat_minor": 5
}
