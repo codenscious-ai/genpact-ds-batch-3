{
 "cells": [
  {
   "cell_type": "code",
   "execution_count": 1,
   "id": "thermal-passing",
   "metadata": {},
   "outputs": [],
   "source": [
    "import numpy as np"
   ]
  },
  {
   "cell_type": "code",
   "execution_count": 53,
   "id": "likely-laugh",
   "metadata": {},
   "outputs": [
    {
     "name": "stdout",
     "output_type": "stream",
     "text": [
      "Press 1 for Pandas practice \n",
      " Press 2 for numpy practice2\n",
      "Number of tasks you want to do : 1\n",
      "Initalise a Pandas Series from numpy vector or python list\n"
     ]
    }
   ],
   "source": [
    "pandas_task = np.load(\"pandas_tasks.npy\")\n",
    "numpy_task = np.load(\"numpy_tasks.npy\")\n",
    "practice = int(input(\"Press 1 for Pandas practice \\n Press 2 for numpy practice\"))\n",
    "n_tasks = int(input(\"Number of tasks you want to do : \"))\n",
    "\n",
    "if practice == 1: tasks = pandas_task\n",
    "else: tasks = numpy_tasks\n",
    "i, j = 0, 0\n",
    "    \n",
    "do = rng.integers(2, size = tasks.shape)\n",
    "\n",
    "while i < n_tasks and j < tasks.shape[0]:\n",
    "    if do[j]: \n",
    "        print(pandas_task[j])\n",
    "        i += 1\n",
    "    j += 1\n"
   ]
  },
  {
   "cell_type": "code",
   "execution_count": null,
   "id": "respiratory-selling",
   "metadata": {},
   "outputs": [],
   "source": []
  },
  {
   "cell_type": "code",
   "execution_count": null,
   "id": "sustainable-insertion",
   "metadata": {},
   "outputs": [],
   "source": []
  },
  {
   "cell_type": "code",
   "execution_count": null,
   "id": "amended-accordance",
   "metadata": {},
   "outputs": [],
   "source": []
  },
  {
   "cell_type": "code",
   "execution_count": null,
   "id": "closing-terry",
   "metadata": {},
   "outputs": [],
   "source": []
  },
  {
   "cell_type": "code",
   "execution_count": null,
   "id": "coral-prince",
   "metadata": {},
   "outputs": [],
   "source": []
  }
 ],
 "metadata": {
  "kernelspec": {
   "display_name": "Python 3",
   "language": "python",
   "name": "python3"
  },
  "language_info": {
   "codemirror_mode": {
    "name": "ipython",
    "version": 3
   },
   "file_extension": ".py",
   "mimetype": "text/x-python",
   "name": "python",
   "nbconvert_exporter": "python",
   "pygments_lexer": "ipython3",
   "version": "3.9.5"
  }
 },
 "nbformat": 4,
 "nbformat_minor": 5
}
