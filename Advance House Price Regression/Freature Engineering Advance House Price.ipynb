{
 "cells": [
  {
   "cell_type": "code",
   "execution_count": 25,
   "id": "diverse-operation",
   "metadata": {},
   "outputs": [],
   "source": [
    "import numpy as np\n",
    "import pandas as pd\n",
    "import matplotlib.pyplot as plt\n",
    "from sklearn.preprocessing import StandardScaler"
   ]
  },
  {
   "cell_type": "code",
   "execution_count": 2,
   "id": "arabic-communist",
   "metadata": {},
   "outputs": [],
   "source": [
    "df = pd.read_csv('data/train.csv')"
   ]
  },
  {
   "cell_type": "code",
   "execution_count": 3,
   "id": "logical-improvement",
   "metadata": {
    "scrolled": true
   },
   "outputs": [],
   "source": [
    "df = df[[\n",
    "    'SalePrice',\n",
    "    'LotArea',\n",
    "    'TotalBsmtSF',\n",
    "    'BsmtQual',\n",
    "    'GrLivArea',\n",
    "    '1stFlrSF',\n",
    "    'Fireplaces',\n",
    "    'FireplaceQu',\n",
    "]]"
   ]
  },
  {
   "cell_type": "code",
   "execution_count": 4,
   "id": "improving-argentina",
   "metadata": {},
   "outputs": [
    {
     "data": {
      "text/html": [
       "<div>\n",
       "<style scoped>\n",
       "    .dataframe tbody tr th:only-of-type {\n",
       "        vertical-align: middle;\n",
       "    }\n",
       "\n",
       "    .dataframe tbody tr th {\n",
       "        vertical-align: top;\n",
       "    }\n",
       "\n",
       "    .dataframe thead th {\n",
       "        text-align: right;\n",
       "    }\n",
       "</style>\n",
       "<table border=\"1\" class=\"dataframe\">\n",
       "  <thead>\n",
       "    <tr style=\"text-align: right;\">\n",
       "      <th></th>\n",
       "      <th>SalePrice</th>\n",
       "      <th>LotArea</th>\n",
       "      <th>TotalBsmtSF</th>\n",
       "      <th>BsmtQual</th>\n",
       "      <th>GrLivArea</th>\n",
       "      <th>1stFlrSF</th>\n",
       "      <th>Fireplaces</th>\n",
       "      <th>FireplaceQu</th>\n",
       "    </tr>\n",
       "  </thead>\n",
       "  <tbody>\n",
       "    <tr>\n",
       "      <th>0</th>\n",
       "      <td>208500</td>\n",
       "      <td>8450</td>\n",
       "      <td>856</td>\n",
       "      <td>Gd</td>\n",
       "      <td>1710</td>\n",
       "      <td>856</td>\n",
       "      <td>0</td>\n",
       "      <td>NaN</td>\n",
       "    </tr>\n",
       "    <tr>\n",
       "      <th>1</th>\n",
       "      <td>181500</td>\n",
       "      <td>9600</td>\n",
       "      <td>1262</td>\n",
       "      <td>Gd</td>\n",
       "      <td>1262</td>\n",
       "      <td>1262</td>\n",
       "      <td>1</td>\n",
       "      <td>TA</td>\n",
       "    </tr>\n",
       "    <tr>\n",
       "      <th>2</th>\n",
       "      <td>223500</td>\n",
       "      <td>11250</td>\n",
       "      <td>920</td>\n",
       "      <td>Gd</td>\n",
       "      <td>1786</td>\n",
       "      <td>920</td>\n",
       "      <td>1</td>\n",
       "      <td>TA</td>\n",
       "    </tr>\n",
       "    <tr>\n",
       "      <th>3</th>\n",
       "      <td>140000</td>\n",
       "      <td>9550</td>\n",
       "      <td>756</td>\n",
       "      <td>TA</td>\n",
       "      <td>1717</td>\n",
       "      <td>961</td>\n",
       "      <td>1</td>\n",
       "      <td>Gd</td>\n",
       "    </tr>\n",
       "    <tr>\n",
       "      <th>4</th>\n",
       "      <td>250000</td>\n",
       "      <td>14260</td>\n",
       "      <td>1145</td>\n",
       "      <td>Gd</td>\n",
       "      <td>2198</td>\n",
       "      <td>1145</td>\n",
       "      <td>1</td>\n",
       "      <td>TA</td>\n",
       "    </tr>\n",
       "  </tbody>\n",
       "</table>\n",
       "</div>"
      ],
      "text/plain": [
       "   SalePrice  LotArea  TotalBsmtSF BsmtQual  GrLivArea  1stFlrSF  Fireplaces  \\\n",
       "0     208500     8450          856       Gd       1710       856           0   \n",
       "1     181500     9600         1262       Gd       1262      1262           1   \n",
       "2     223500    11250          920       Gd       1786       920           1   \n",
       "3     140000     9550          756       TA       1717       961           1   \n",
       "4     250000    14260         1145       Gd       2198      1145           1   \n",
       "\n",
       "  FireplaceQu  \n",
       "0         NaN  \n",
       "1          TA  \n",
       "2          TA  \n",
       "3          Gd  \n",
       "4          TA  "
      ]
     },
     "execution_count": 4,
     "metadata": {},
     "output_type": "execute_result"
    }
   ],
   "source": [
    "df.head()"
   ]
  },
  {
   "cell_type": "markdown",
   "id": "approximate-tribute",
   "metadata": {},
   "source": [
    "### Continious Features"
   ]
  },
  {
   "cell_type": "code",
   "execution_count": 5,
   "id": "aquatic-tribe",
   "metadata": {},
   "outputs": [],
   "source": [
    "continiousRV = df[[\n",
    "    'SalePrice',\n",
    "    'LotArea',\n",
    "    'TotalBsmtSF',\n",
    "    'GrLivArea',\n",
    "    '1stFlrSF',  \n",
    "]]"
   ]
  },
  {
   "cell_type": "code",
   "execution_count": 6,
   "id": "employed-terrorist",
   "metadata": {},
   "outputs": [
    {
     "data": {
      "text/plain": [
       "SalePrice      0\n",
       "LotArea        0\n",
       "TotalBsmtSF    0\n",
       "GrLivArea      0\n",
       "1stFlrSF       0\n",
       "dtype: int64"
      ]
     },
     "execution_count": 6,
     "metadata": {},
     "output_type": "execute_result"
    }
   ],
   "source": [
    "continiousRV.isna().sum()"
   ]
  },
  {
   "cell_type": "code",
   "execution_count": 7,
   "id": "serious-relative",
   "metadata": {},
   "outputs": [],
   "source": [
    "scaler = StandardScaler()"
   ]
  },
  {
   "cell_type": "code",
   "execution_count": 8,
   "id": "related-disclosure",
   "metadata": {},
   "outputs": [
    {
     "data": {
      "text/html": [
       "<style>#sk-container-id-1 {color: black;background-color: white;}#sk-container-id-1 pre{padding: 0;}#sk-container-id-1 div.sk-toggleable {background-color: white;}#sk-container-id-1 label.sk-toggleable__label {cursor: pointer;display: block;width: 100%;margin-bottom: 0;padding: 0.3em;box-sizing: border-box;text-align: center;}#sk-container-id-1 label.sk-toggleable__label-arrow:before {content: \"▸\";float: left;margin-right: 0.25em;color: #696969;}#sk-container-id-1 label.sk-toggleable__label-arrow:hover:before {color: black;}#sk-container-id-1 div.sk-estimator:hover label.sk-toggleable__label-arrow:before {color: black;}#sk-container-id-1 div.sk-toggleable__content {max-height: 0;max-width: 0;overflow: hidden;text-align: left;background-color: #f0f8ff;}#sk-container-id-1 div.sk-toggleable__content pre {margin: 0.2em;color: black;border-radius: 0.25em;background-color: #f0f8ff;}#sk-container-id-1 input.sk-toggleable__control:checked~div.sk-toggleable__content {max-height: 200px;max-width: 100%;overflow: auto;}#sk-container-id-1 input.sk-toggleable__control:checked~label.sk-toggleable__label-arrow:before {content: \"▾\";}#sk-container-id-1 div.sk-estimator input.sk-toggleable__control:checked~label.sk-toggleable__label {background-color: #d4ebff;}#sk-container-id-1 div.sk-label input.sk-toggleable__control:checked~label.sk-toggleable__label {background-color: #d4ebff;}#sk-container-id-1 input.sk-hidden--visually {border: 0;clip: rect(1px 1px 1px 1px);clip: rect(1px, 1px, 1px, 1px);height: 1px;margin: -1px;overflow: hidden;padding: 0;position: absolute;width: 1px;}#sk-container-id-1 div.sk-estimator {font-family: monospace;background-color: #f0f8ff;border: 1px dotted black;border-radius: 0.25em;box-sizing: border-box;margin-bottom: 0.5em;}#sk-container-id-1 div.sk-estimator:hover {background-color: #d4ebff;}#sk-container-id-1 div.sk-parallel-item::after {content: \"\";width: 100%;border-bottom: 1px solid gray;flex-grow: 1;}#sk-container-id-1 div.sk-label:hover label.sk-toggleable__label {background-color: #d4ebff;}#sk-container-id-1 div.sk-serial::before {content: \"\";position: absolute;border-left: 1px solid gray;box-sizing: border-box;top: 0;bottom: 0;left: 50%;z-index: 0;}#sk-container-id-1 div.sk-serial {display: flex;flex-direction: column;align-items: center;background-color: white;padding-right: 0.2em;padding-left: 0.2em;position: relative;}#sk-container-id-1 div.sk-item {position: relative;z-index: 1;}#sk-container-id-1 div.sk-parallel {display: flex;align-items: stretch;justify-content: center;background-color: white;position: relative;}#sk-container-id-1 div.sk-item::before, #sk-container-id-1 div.sk-parallel-item::before {content: \"\";position: absolute;border-left: 1px solid gray;box-sizing: border-box;top: 0;bottom: 0;left: 50%;z-index: -1;}#sk-container-id-1 div.sk-parallel-item {display: flex;flex-direction: column;z-index: 1;position: relative;background-color: white;}#sk-container-id-1 div.sk-parallel-item:first-child::after {align-self: flex-end;width: 50%;}#sk-container-id-1 div.sk-parallel-item:last-child::after {align-self: flex-start;width: 50%;}#sk-container-id-1 div.sk-parallel-item:only-child::after {width: 0;}#sk-container-id-1 div.sk-dashed-wrapped {border: 1px dashed gray;margin: 0 0.4em 0.5em 0.4em;box-sizing: border-box;padding-bottom: 0.4em;background-color: white;}#sk-container-id-1 div.sk-label label {font-family: monospace;font-weight: bold;display: inline-block;line-height: 1.2em;}#sk-container-id-1 div.sk-label-container {text-align: center;}#sk-container-id-1 div.sk-container {/* jupyter's `normalize.less` sets `[hidden] { display: none; }` but bootstrap.min.css set `[hidden] { display: none !important; }` so we also need the `!important` here to be able to override the default hidden behavior on the sphinx rendered scikit-learn.org. See: https://github.com/scikit-learn/scikit-learn/issues/21755 */display: inline-block !important;position: relative;}#sk-container-id-1 div.sk-text-repr-fallback {display: none;}</style><div id=\"sk-container-id-1\" class=\"sk-top-container\"><div class=\"sk-text-repr-fallback\"><pre>StandardScaler()</pre><b>In a Jupyter environment, please rerun this cell to show the HTML representation or trust the notebook. <br />On GitHub, the HTML representation is unable to render, please try loading this page with nbviewer.org.</b></div><div class=\"sk-container\" hidden><div class=\"sk-item\"><div class=\"sk-estimator sk-toggleable\"><input class=\"sk-toggleable__control sk-hidden--visually\" id=\"sk-estimator-id-1\" type=\"checkbox\" checked><label for=\"sk-estimator-id-1\" class=\"sk-toggleable__label sk-toggleable__label-arrow\">StandardScaler</label><div class=\"sk-toggleable__content\"><pre>StandardScaler()</pre></div></div></div></div></div>"
      ],
      "text/plain": [
       "StandardScaler()"
      ]
     },
     "execution_count": 8,
     "metadata": {},
     "output_type": "execute_result"
    }
   ],
   "source": [
    "scaler.fit(continiousRV)"
   ]
  },
  {
   "cell_type": "code",
   "execution_count": 9,
   "id": "associate-huntington",
   "metadata": {},
   "outputs": [
    {
     "data": {
      "text/plain": [
       "array([[ 0.34727322, -0.20714171, -0.45930254,  0.37033344, -0.79343379],\n",
       "       [ 0.00728832, -0.09188637,  0.46646492, -0.48251191,  0.25714043],\n",
       "       [ 0.53615372,  0.07347998, -0.31336875,  0.51501256, -0.62782603],\n",
       "       ...,\n",
       "       [ 1.07761115, -0.14781027,  0.21564122,  1.56964722,  0.06565646],\n",
       "       [-0.48852299, -0.08016039,  0.04690528, -0.83278768, -0.21898188],\n",
       "       [-0.42084081, -0.05811155,  0.45278362, -0.49393395,  0.2416147 ]])"
      ]
     },
     "execution_count": 9,
     "metadata": {},
     "output_type": "execute_result"
    }
   ],
   "source": [
    "scaled_data = scaler.transform(continiousRV)\n",
    "scaled_data"
   ]
  },
  {
   "cell_type": "code",
   "execution_count": 10,
   "id": "twelve-colleague",
   "metadata": {},
   "outputs": [],
   "source": [
    "df[continiousRV.columns] = scaled_data"
   ]
  },
  {
   "cell_type": "code",
   "execution_count": 11,
   "id": "painful-durham",
   "metadata": {},
   "outputs": [
    {
     "data": {
      "text/html": [
       "<div>\n",
       "<style scoped>\n",
       "    .dataframe tbody tr th:only-of-type {\n",
       "        vertical-align: middle;\n",
       "    }\n",
       "\n",
       "    .dataframe tbody tr th {\n",
       "        vertical-align: top;\n",
       "    }\n",
       "\n",
       "    .dataframe thead th {\n",
       "        text-align: right;\n",
       "    }\n",
       "</style>\n",
       "<table border=\"1\" class=\"dataframe\">\n",
       "  <thead>\n",
       "    <tr style=\"text-align: right;\">\n",
       "      <th></th>\n",
       "      <th>SalePrice</th>\n",
       "      <th>LotArea</th>\n",
       "      <th>TotalBsmtSF</th>\n",
       "      <th>BsmtQual</th>\n",
       "      <th>GrLivArea</th>\n",
       "      <th>1stFlrSF</th>\n",
       "      <th>Fireplaces</th>\n",
       "      <th>FireplaceQu</th>\n",
       "    </tr>\n",
       "  </thead>\n",
       "  <tbody>\n",
       "    <tr>\n",
       "      <th>0</th>\n",
       "      <td>0.347273</td>\n",
       "      <td>-0.207142</td>\n",
       "      <td>-0.459303</td>\n",
       "      <td>Gd</td>\n",
       "      <td>0.370333</td>\n",
       "      <td>-0.793434</td>\n",
       "      <td>0</td>\n",
       "      <td>NaN</td>\n",
       "    </tr>\n",
       "    <tr>\n",
       "      <th>1</th>\n",
       "      <td>0.007288</td>\n",
       "      <td>-0.091886</td>\n",
       "      <td>0.466465</td>\n",
       "      <td>Gd</td>\n",
       "      <td>-0.482512</td>\n",
       "      <td>0.257140</td>\n",
       "      <td>1</td>\n",
       "      <td>TA</td>\n",
       "    </tr>\n",
       "    <tr>\n",
       "      <th>2</th>\n",
       "      <td>0.536154</td>\n",
       "      <td>0.073480</td>\n",
       "      <td>-0.313369</td>\n",
       "      <td>Gd</td>\n",
       "      <td>0.515013</td>\n",
       "      <td>-0.627826</td>\n",
       "      <td>1</td>\n",
       "      <td>TA</td>\n",
       "    </tr>\n",
       "    <tr>\n",
       "      <th>3</th>\n",
       "      <td>-0.515281</td>\n",
       "      <td>-0.096897</td>\n",
       "      <td>-0.687324</td>\n",
       "      <td>TA</td>\n",
       "      <td>0.383659</td>\n",
       "      <td>-0.521734</td>\n",
       "      <td>1</td>\n",
       "      <td>Gd</td>\n",
       "    </tr>\n",
       "    <tr>\n",
       "      <th>4</th>\n",
       "      <td>0.869843</td>\n",
       "      <td>0.375148</td>\n",
       "      <td>0.199680</td>\n",
       "      <td>Gd</td>\n",
       "      <td>1.299326</td>\n",
       "      <td>-0.045611</td>\n",
       "      <td>1</td>\n",
       "      <td>TA</td>\n",
       "    </tr>\n",
       "    <tr>\n",
       "      <th>...</th>\n",
       "      <td>...</td>\n",
       "      <td>...</td>\n",
       "      <td>...</td>\n",
       "      <td>...</td>\n",
       "      <td>...</td>\n",
       "      <td>...</td>\n",
       "      <td>...</td>\n",
       "      <td>...</td>\n",
       "    </tr>\n",
       "    <tr>\n",
       "      <th>1455</th>\n",
       "      <td>-0.074560</td>\n",
       "      <td>-0.260560</td>\n",
       "      <td>-0.238122</td>\n",
       "      <td>Gd</td>\n",
       "      <td>0.250402</td>\n",
       "      <td>-0.542435</td>\n",
       "      <td>1</td>\n",
       "      <td>TA</td>\n",
       "    </tr>\n",
       "    <tr>\n",
       "      <th>1456</th>\n",
       "      <td>0.366161</td>\n",
       "      <td>0.266407</td>\n",
       "      <td>1.104925</td>\n",
       "      <td>Gd</td>\n",
       "      <td>1.061367</td>\n",
       "      <td>2.355701</td>\n",
       "      <td>2</td>\n",
       "      <td>TA</td>\n",
       "    </tr>\n",
       "    <tr>\n",
       "      <th>1457</th>\n",
       "      <td>1.077611</td>\n",
       "      <td>-0.147810</td>\n",
       "      <td>0.215641</td>\n",
       "      <td>TA</td>\n",
       "      <td>1.569647</td>\n",
       "      <td>0.065656</td>\n",
       "      <td>2</td>\n",
       "      <td>Gd</td>\n",
       "    </tr>\n",
       "    <tr>\n",
       "      <th>1458</th>\n",
       "      <td>-0.488523</td>\n",
       "      <td>-0.080160</td>\n",
       "      <td>0.046905</td>\n",
       "      <td>TA</td>\n",
       "      <td>-0.832788</td>\n",
       "      <td>-0.218982</td>\n",
       "      <td>0</td>\n",
       "      <td>NaN</td>\n",
       "    </tr>\n",
       "    <tr>\n",
       "      <th>1459</th>\n",
       "      <td>-0.420841</td>\n",
       "      <td>-0.058112</td>\n",
       "      <td>0.452784</td>\n",
       "      <td>TA</td>\n",
       "      <td>-0.493934</td>\n",
       "      <td>0.241615</td>\n",
       "      <td>0</td>\n",
       "      <td>NaN</td>\n",
       "    </tr>\n",
       "  </tbody>\n",
       "</table>\n",
       "<p>1460 rows × 8 columns</p>\n",
       "</div>"
      ],
      "text/plain": [
       "      SalePrice   LotArea  TotalBsmtSF BsmtQual  GrLivArea  1stFlrSF  \\\n",
       "0      0.347273 -0.207142    -0.459303       Gd   0.370333 -0.793434   \n",
       "1      0.007288 -0.091886     0.466465       Gd  -0.482512  0.257140   \n",
       "2      0.536154  0.073480    -0.313369       Gd   0.515013 -0.627826   \n",
       "3     -0.515281 -0.096897    -0.687324       TA   0.383659 -0.521734   \n",
       "4      0.869843  0.375148     0.199680       Gd   1.299326 -0.045611   \n",
       "...         ...       ...          ...      ...        ...       ...   \n",
       "1455  -0.074560 -0.260560    -0.238122       Gd   0.250402 -0.542435   \n",
       "1456   0.366161  0.266407     1.104925       Gd   1.061367  2.355701   \n",
       "1457   1.077611 -0.147810     0.215641       TA   1.569647  0.065656   \n",
       "1458  -0.488523 -0.080160     0.046905       TA  -0.832788 -0.218982   \n",
       "1459  -0.420841 -0.058112     0.452784       TA  -0.493934  0.241615   \n",
       "\n",
       "      Fireplaces FireplaceQu  \n",
       "0              0         NaN  \n",
       "1              1          TA  \n",
       "2              1          TA  \n",
       "3              1          Gd  \n",
       "4              1          TA  \n",
       "...          ...         ...  \n",
       "1455           1          TA  \n",
       "1456           2          TA  \n",
       "1457           2          Gd  \n",
       "1458           0         NaN  \n",
       "1459           0         NaN  \n",
       "\n",
       "[1460 rows x 8 columns]"
      ]
     },
     "execution_count": 11,
     "metadata": {},
     "output_type": "execute_result"
    }
   ],
   "source": [
    "df"
   ]
  },
  {
   "cell_type": "markdown",
   "id": "engaging-auckland",
   "metadata": {},
   "source": [
    "### Descrete Features"
   ]
  },
  {
   "cell_type": "code",
   "execution_count": 12,
   "id": "female-salvation",
   "metadata": {},
   "outputs": [
    {
     "data": {
      "text/plain": [
       "BsmtQual        37\n",
       "Fireplaces       0\n",
       "FireplaceQu    690\n",
       "dtype: int64"
      ]
     },
     "execution_count": 12,
     "metadata": {},
     "output_type": "execute_result"
    }
   ],
   "source": [
    "df[[\n",
    "    'BsmtQual',\n",
    "    'Fireplaces',\n",
    "    'FireplaceQu',\n",
    "]].isna().sum()"
   ]
  },
  {
   "cell_type": "markdown",
   "id": "shaped-science",
   "metadata": {},
   "source": [
    "#### Updating null values in BsmtQual to Unknown"
   ]
  },
  {
   "cell_type": "code",
   "execution_count": 13,
   "id": "quarterly-municipality",
   "metadata": {},
   "outputs": [],
   "source": [
    "df['BsmtQual'] = df['BsmtQual'].fillna(value = 'Unknown')"
   ]
  },
  {
   "cell_type": "markdown",
   "id": "weird-transmission",
   "metadata": {},
   "source": [
    "#### Merging all Fireplaces more than 0 to 1 to make it binary"
   ]
  },
  {
   "cell_type": "code",
   "execution_count": 14,
   "id": "dangerous-school",
   "metadata": {},
   "outputs": [],
   "source": [
    "df.loc[df['Fireplaces'] != 0, 'Fireplaces'] = 1"
   ]
  },
  {
   "cell_type": "markdown",
   "id": "enhanced-release",
   "metadata": {},
   "source": [
    "#### Updating null values in BsmtQual to Unknown"
   ]
  },
  {
   "cell_type": "code",
   "execution_count": 15,
   "id": "listed-doctrine",
   "metadata": {},
   "outputs": [],
   "source": [
    "df['FireplaceQu'] = df['FireplaceQu'].fillna(value = 'Unknown')"
   ]
  },
  {
   "cell_type": "code",
   "execution_count": 16,
   "id": "separated-pricing",
   "metadata": {},
   "outputs": [],
   "source": [
    "descreteRV = df[[\n",
    "    'BsmtQual',\n",
    "    'Fireplaces',\n",
    "    'FireplaceQu',\n",
    "]]"
   ]
  },
  {
   "cell_type": "code",
   "execution_count": 17,
   "id": "brief-watts",
   "metadata": {},
   "outputs": [
    {
     "data": {
      "text/plain": [
       "BsmtQual       0\n",
       "Fireplaces     0\n",
       "FireplaceQu    0\n",
       "dtype: int64"
      ]
     },
     "execution_count": 17,
     "metadata": {},
     "output_type": "execute_result"
    }
   ],
   "source": [
    "descreteRV.isna().sum()"
   ]
  },
  {
   "cell_type": "code",
   "execution_count": 18,
   "id": "weighted-williams",
   "metadata": {},
   "outputs": [
    {
     "data": {
      "image/png": "[encoded data removed]",
      "text/plain": [
       "<Figure size 432x288 with 1 Axes>"
      ]
     },
     "metadata": {
      "needs_background": "light"
     },
     "output_type": "display_data"
    },
    {
     "data": {
      "image/png": "[encoded data removed]",
      "text/plain": [
       "<Figure size 432x288 with 1 Axes>"
      ]
     },
     "metadata": {
      "needs_background": "light"
     },
     "output_type": "display_data"
    },
    {
     "data": {
      "image/png": "[encoded data removed]",
      "text/plain": [
       "<Figure size 432x288 with 1 Axes>"
      ]
     },
     "metadata": {
      "needs_background": "light"
     },
     "output_type": "display_data"
    }
   ],
   "source": [
    "for feature in descreteRV:\n",
    "    df.groupby(feature)['SalePrice'].median().plot.bar()\n",
    "    plt.xlabel(feature)\n",
    "    plt.ylabel('Sale Price')\n",
    "    plt.title(feature)\n",
    "    plt.show()"
   ]
  },
  {
   "cell_type": "code",
   "execution_count": 19,
   "id": "clear-marshall",
   "metadata": {},
   "outputs": [],
   "source": [
    "group = df.groupby('FireplaceQu')['SalePrice'].median()"
   ]
  },
  {
   "cell_type": "code",
   "execution_count": 20,
   "id": "contemporary-joining",
   "metadata": {},
   "outputs": [
    {
     "data": {
      "text/plain": [
       "FireplaceQu\n",
       "Ex         1.678881\n",
       "Fa        -0.288624\n",
       "Gd         0.327756\n",
       "Po        -0.622313\n",
       "TA         0.082841\n",
       "Unknown   -0.578241\n",
       "Name: SalePrice, dtype: float64"
      ]
     },
     "execution_count": 20,
     "metadata": {},
     "output_type": "execute_result"
    }
   ],
   "source": [
    "group"
   ]
  },
  {
   "cell_type": "code",
   "execution_count": 21,
   "id": "blind-coverage",
   "metadata": {},
   "outputs": [],
   "source": [
    "for feature in descreteRV:\n",
    "    group = df.groupby(feature)['SalePrice'].median()\n",
    "    for i in range(len(group.index)):\n",
    "        df.loc[df[feature] == group.index[i], feature] = group[i]"
   ]
  },
  {
   "cell_type": "code",
   "execution_count": 22,
   "id": "eleven-benchmark",
   "metadata": {
    "scrolled": true
   },
   "outputs": [
    {
     "data": {
      "text/html": [
       "<div>\n",
       "<style scoped>\n",
       "    .dataframe tbody tr th:only-of-type {\n",
       "        vertical-align: middle;\n",
       "    }\n",
       "\n",
       "    .dataframe tbody tr th {\n",
       "        vertical-align: top;\n",
       "    }\n",
       "\n",
       "    .dataframe thead th {\n",
       "        text-align: right;\n",
       "    }\n",
       "</style>\n",
       "<table border=\"1\" class=\"dataframe\">\n",
       "  <thead>\n",
       "    <tr style=\"text-align: right;\">\n",
       "      <th></th>\n",
       "      <th>SalePrice</th>\n",
       "      <th>LotArea</th>\n",
       "      <th>TotalBsmtSF</th>\n",
       "      <th>BsmtQual</th>\n",
       "      <th>GrLivArea</th>\n",
       "      <th>1stFlrSF</th>\n",
       "      <th>Fireplaces</th>\n",
       "      <th>FireplaceQu</th>\n",
       "    </tr>\n",
       "  </thead>\n",
       "  <tbody>\n",
       "    <tr>\n",
       "      <th>0</th>\n",
       "      <td>0.347273</td>\n",
       "      <td>-0.207142</td>\n",
       "      <td>-0.459303</td>\n",
       "      <td>0.140386</td>\n",
       "      <td>0.370333</td>\n",
       "      <td>-0.793434</td>\n",
       "      <td>-0.578241</td>\n",
       "      <td>-0.578241</td>\n",
       "    </tr>\n",
       "    <tr>\n",
       "      <th>1</th>\n",
       "      <td>0.007288</td>\n",
       "      <td>-0.091886</td>\n",
       "      <td>0.466465</td>\n",
       "      <td>0.140386</td>\n",
       "      <td>-0.482512</td>\n",
       "      <td>0.257140</td>\n",
       "      <td>0.126913</td>\n",
       "      <td>0.082841</td>\n",
       "    </tr>\n",
       "    <tr>\n",
       "      <th>2</th>\n",
       "      <td>0.536154</td>\n",
       "      <td>0.073480</td>\n",
       "      <td>-0.313369</td>\n",
       "      <td>0.140386</td>\n",
       "      <td>0.515013</td>\n",
       "      <td>-0.627826</td>\n",
       "      <td>0.126913</td>\n",
       "      <td>0.082841</td>\n",
       "    </tr>\n",
       "    <tr>\n",
       "      <th>3</th>\n",
       "      <td>-0.515281</td>\n",
       "      <td>-0.096897</td>\n",
       "      <td>-0.687324</td>\n",
       "      <td>-0.571945</td>\n",
       "      <td>0.383659</td>\n",
       "      <td>-0.521734</td>\n",
       "      <td>0.126913</td>\n",
       "      <td>0.327756</td>\n",
       "    </tr>\n",
       "    <tr>\n",
       "      <th>4</th>\n",
       "      <td>0.869843</td>\n",
       "      <td>0.375148</td>\n",
       "      <td>0.199680</td>\n",
       "      <td>0.140386</td>\n",
       "      <td>1.299326</td>\n",
       "      <td>-0.045611</td>\n",
       "      <td>0.126913</td>\n",
       "      <td>0.082841</td>\n",
       "    </tr>\n",
       "    <tr>\n",
       "      <th>...</th>\n",
       "      <td>...</td>\n",
       "      <td>...</td>\n",
       "      <td>...</td>\n",
       "      <td>...</td>\n",
       "      <td>...</td>\n",
       "      <td>...</td>\n",
       "      <td>...</td>\n",
       "      <td>...</td>\n",
       "    </tr>\n",
       "    <tr>\n",
       "      <th>1455</th>\n",
       "      <td>-0.074560</td>\n",
       "      <td>-0.260560</td>\n",
       "      <td>-0.238122</td>\n",
       "      <td>0.140386</td>\n",
       "      <td>0.250402</td>\n",
       "      <td>-0.542435</td>\n",
       "      <td>0.126913</td>\n",
       "      <td>0.082841</td>\n",
       "    </tr>\n",
       "    <tr>\n",
       "      <th>1456</th>\n",
       "      <td>0.366161</td>\n",
       "      <td>0.266407</td>\n",
       "      <td>1.104925</td>\n",
       "      <td>0.140386</td>\n",
       "      <td>1.061367</td>\n",
       "      <td>2.355701</td>\n",
       "      <td>0.126913</td>\n",
       "      <td>0.082841</td>\n",
       "    </tr>\n",
       "    <tr>\n",
       "      <th>1457</th>\n",
       "      <td>1.077611</td>\n",
       "      <td>-0.147810</td>\n",
       "      <td>0.215641</td>\n",
       "      <td>-0.571945</td>\n",
       "      <td>1.569647</td>\n",
       "      <td>0.065656</td>\n",
       "      <td>0.126913</td>\n",
       "      <td>0.327756</td>\n",
       "    </tr>\n",
       "    <tr>\n",
       "      <th>1458</th>\n",
       "      <td>-0.488523</td>\n",
       "      <td>-0.080160</td>\n",
       "      <td>0.046905</td>\n",
       "      <td>-0.571945</td>\n",
       "      <td>-0.832788</td>\n",
       "      <td>-0.218982</td>\n",
       "      <td>-0.578241</td>\n",
       "      <td>-0.578241</td>\n",
       "    </tr>\n",
       "    <tr>\n",
       "      <th>1459</th>\n",
       "      <td>-0.420841</td>\n",
       "      <td>-0.058112</td>\n",
       "      <td>0.452784</td>\n",
       "      <td>-0.571945</td>\n",
       "      <td>-0.493934</td>\n",
       "      <td>0.241615</td>\n",
       "      <td>-0.578241</td>\n",
       "      <td>-0.578241</td>\n",
       "    </tr>\n",
       "  </tbody>\n",
       "</table>\n",
       "<p>1460 rows × 8 columns</p>\n",
       "</div>"
      ],
      "text/plain": [
       "      SalePrice   LotArea  TotalBsmtSF  BsmtQual  GrLivArea  1stFlrSF  \\\n",
       "0      0.347273 -0.207142    -0.459303  0.140386   0.370333 -0.793434   \n",
       "1      0.007288 -0.091886     0.466465  0.140386  -0.482512  0.257140   \n",
       "2      0.536154  0.073480    -0.313369  0.140386   0.515013 -0.627826   \n",
       "3     -0.515281 -0.096897    -0.687324 -0.571945   0.383659 -0.521734   \n",
       "4      0.869843  0.375148     0.199680  0.140386   1.299326 -0.045611   \n",
       "...         ...       ...          ...       ...        ...       ...   \n",
       "1455  -0.074560 -0.260560    -0.238122  0.140386   0.250402 -0.542435   \n",
       "1456   0.366161  0.266407     1.104925  0.140386   1.061367  2.355701   \n",
       "1457   1.077611 -0.147810     0.215641 -0.571945   1.569647  0.065656   \n",
       "1458  -0.488523 -0.080160     0.046905 -0.571945  -0.832788 -0.218982   \n",
       "1459  -0.420841 -0.058112     0.452784 -0.571945  -0.493934  0.241615   \n",
       "\n",
       "      Fireplaces FireplaceQu  \n",
       "0      -0.578241   -0.578241  \n",
       "1       0.126913    0.082841  \n",
       "2       0.126913    0.082841  \n",
       "3       0.126913    0.327756  \n",
       "4       0.126913    0.082841  \n",
       "...          ...         ...  \n",
       "1455    0.126913    0.082841  \n",
       "1456    0.126913    0.082841  \n",
       "1457    0.126913    0.327756  \n",
       "1458   -0.578241   -0.578241  \n",
       "1459   -0.578241   -0.578241  \n",
       "\n",
       "[1460 rows x 8 columns]"
      ]
     },
     "execution_count": 22,
     "metadata": {},
     "output_type": "execute_result"
    }
   ],
   "source": [
    "df"
   ]
  },
  {
   "cell_type": "markdown",
   "id": "empty-detail",
   "metadata": {},
   "source": [
    "## Training"
   ]
  },
  {
   "cell_type": "code",
   "execution_count": 37,
   "id": "homeless-bradford",
   "metadata": {},
   "outputs": [],
   "source": [
    "from sklearn.linear_model import LinearRegression\n",
    "from sklearn.model_selection import train_test_split\n",
    "from sklearn.metrics import mean_squared_error"
   ]
  },
  {
   "cell_type": "code",
   "execution_count": 31,
   "id": "accepting-segment",
   "metadata": {},
   "outputs": [],
   "source": [
    "X = df.drop('SalePrice', axis = 1)"
   ]
  },
  {
   "cell_type": "code",
   "execution_count": 32,
   "id": "julian-bruce",
   "metadata": {},
   "outputs": [],
   "source": [
    "y = df['SalePrice']"
   ]
  },
  {
   "cell_type": "code",
   "execution_count": 33,
   "id": "recent-authority",
   "metadata": {},
   "outputs": [],
   "source": [
    "X_train, X_test, y_train, y_test = train_test_split(X, y, test_size=0.2, random_state = 50)"
   ]
  },
  {
   "cell_type": "code",
   "execution_count": 34,
   "id": "knowing-space",
   "metadata": {},
   "outputs": [],
   "source": [
    "model = LinearRegression()"
   ]
  },
  {
   "cell_type": "code",
   "execution_count": 35,
   "id": "extensive-springer",
   "metadata": {},
   "outputs": [
    {
     "data": {
      "text/html": [
       "<style>#sk-container-id-2 {color: black;background-color: white;}#sk-container-id-2 pre{padding: 0;}#sk-container-id-2 div.sk-toggleable {background-color: white;}#sk-container-id-2 label.sk-toggleable__label {cursor: pointer;display: block;width: 100%;margin-bottom: 0;padding: 0.3em;box-sizing: border-box;text-align: center;}#sk-container-id-2 label.sk-toggleable__label-arrow:before {content: \"▸\";float: left;margin-right: 0.25em;color: #696969;}#sk-container-id-2 label.sk-toggleable__label-arrow:hover:before {color: black;}#sk-container-id-2 div.sk-estimator:hover label.sk-toggleable__label-arrow:before {color: black;}#sk-container-id-2 div.sk-toggleable__content {max-height: 0;max-width: 0;overflow: hidden;text-align: left;background-color: #f0f8ff;}#sk-container-id-2 div.sk-toggleable__content pre {margin: 0.2em;color: black;border-radius: 0.25em;background-color: #f0f8ff;}#sk-container-id-2 input.sk-toggleable__control:checked~div.sk-toggleable__content {max-height: 200px;max-width: 100%;overflow: auto;}#sk-container-id-2 input.sk-toggleable__control:checked~label.sk-toggleable__label-arrow:before {content: \"▾\";}#sk-container-id-2 div.sk-estimator input.sk-toggleable__control:checked~label.sk-toggleable__label {background-color: #d4ebff;}#sk-container-id-2 div.sk-label input.sk-toggleable__control:checked~label.sk-toggleable__label {background-color: #d4ebff;}#sk-container-id-2 input.sk-hidden--visually {border: 0;clip: rect(1px 1px 1px 1px);clip: rect(1px, 1px, 1px, 1px);height: 1px;margin: -1px;overflow: hidden;padding: 0;position: absolute;width: 1px;}#sk-container-id-2 div.sk-estimator {font-family: monospace;background-color: #f0f8ff;border: 1px dotted black;border-radius: 0.25em;box-sizing: border-box;margin-bottom: 0.5em;}#sk-container-id-2 div.sk-estimator:hover {background-color: #d4ebff;}#sk-container-id-2 div.sk-parallel-item::after {content: \"\";width: 100%;border-bottom: 1px solid gray;flex-grow: 1;}#sk-container-id-2 div.sk-label:hover label.sk-toggleable__label {background-color: #d4ebff;}#sk-container-id-2 div.sk-serial::before {content: \"\";position: absolute;border-left: 1px solid gray;box-sizing: border-box;top: 0;bottom: 0;left: 50%;z-index: 0;}#sk-container-id-2 div.sk-serial {display: flex;flex-direction: column;align-items: center;background-color: white;padding-right: 0.2em;padding-left: 0.2em;position: relative;}#sk-container-id-2 div.sk-item {position: relative;z-index: 1;}#sk-container-id-2 div.sk-parallel {display: flex;align-items: stretch;justify-content: center;background-color: white;position: relative;}#sk-container-id-2 div.sk-item::before, #sk-container-id-2 div.sk-parallel-item::before {content: \"\";position: absolute;border-left: 1px solid gray;box-sizing: border-box;top: 0;bottom: 0;left: 50%;z-index: -1;}#sk-container-id-2 div.sk-parallel-item {display: flex;flex-direction: column;z-index: 1;position: relative;background-color: white;}#sk-container-id-2 div.sk-parallel-item:first-child::after {align-self: flex-end;width: 50%;}#sk-container-id-2 div.sk-parallel-item:last-child::after {align-self: flex-start;width: 50%;}#sk-container-id-2 div.sk-parallel-item:only-child::after {width: 0;}#sk-container-id-2 div.sk-dashed-wrapped {border: 1px dashed gray;margin: 0 0.4em 0.5em 0.4em;box-sizing: border-box;padding-bottom: 0.4em;background-color: white;}#sk-container-id-2 div.sk-label label {font-family: monospace;font-weight: bold;display: inline-block;line-height: 1.2em;}#sk-container-id-2 div.sk-label-container {text-align: center;}#sk-container-id-2 div.sk-container {/* jupyter's `normalize.less` sets `[hidden] { display: none; }` but bootstrap.min.css set `[hidden] { display: none !important; }` so we also need the `!important` here to be able to override the default hidden behavior on the sphinx rendered scikit-learn.org. See: https://github.com/scikit-learn/scikit-learn/issues/21755 */display: inline-block !important;position: relative;}#sk-container-id-2 div.sk-text-repr-fallback {display: none;}</style><div id=\"sk-container-id-2\" class=\"sk-top-container\"><div class=\"sk-text-repr-fallback\"><pre>LinearRegression()</pre><b>In a Jupyter environment, please rerun this cell to show the HTML representation or trust the notebook. <br />On GitHub, the HTML representation is unable to render, please try loading this page with nbviewer.org.</b></div><div class=\"sk-container\" hidden><div class=\"sk-item\"><div class=\"sk-estimator sk-toggleable\"><input class=\"sk-toggleable__control sk-hidden--visually\" id=\"sk-estimator-id-2\" type=\"checkbox\" checked><label for=\"sk-estimator-id-2\" class=\"sk-toggleable__label sk-toggleable__label-arrow\">LinearRegression</label><div class=\"sk-toggleable__content\"><pre>LinearRegression()</pre></div></div></div></div></div>"
      ],
      "text/plain": [
       "LinearRegression()"
      ]
     },
     "execution_count": 35,
     "metadata": {},
     "output_type": "execute_result"
    }
   ],
   "source": [
    "model.fit(X_train, y_train)"
   ]
  },
  {
   "cell_type": "code",
   "execution_count": 36,
   "id": "secret-firewall",
   "metadata": {},
   "outputs": [
    {
     "ename": "NameError",
     "evalue": "name 'mean_squared_error' is not defined",
     "output_type": "error",
     "traceback": [
      "\u001b[0;31m---------------------------------------------------------------------------\u001b[0m",
      "\u001b[0;31mNameError\u001b[0m                                 Traceback (most recent call last)",
      "\u001b[0;32m<ipython-input-36-5cf83930c1cc>\u001b[0m in \u001b[0;36m<module>\u001b[0;34m\u001b[0m\n\u001b[1;32m      1\u001b[0m \u001b[0my_pred\u001b[0m \u001b[0;34m=\u001b[0m \u001b[0mmodel\u001b[0m\u001b[0;34m.\u001b[0m\u001b[0mpredict\u001b[0m\u001b[0;34m(\u001b[0m\u001b[0mX_test\u001b[0m\u001b[0;34m)\u001b[0m\u001b[0;34m\u001b[0m\u001b[0;34m\u001b[0m\u001b[0m\n\u001b[0;32m----> 2\u001b[0;31m \u001b[0mmse\u001b[0m \u001b[0;34m=\u001b[0m \u001b[0mmean_squared_error\u001b[0m\u001b[0;34m(\u001b[0m\u001b[0my_test\u001b[0m\u001b[0;34m,\u001b[0m \u001b[0my_pred\u001b[0m\u001b[0;34m)\u001b[0m\u001b[0;34m\u001b[0m\u001b[0;34m\u001b[0m\u001b[0m\n\u001b[0m\u001b[1;32m      3\u001b[0m \u001b[0mprint\u001b[0m\u001b[0;34m(\u001b[0m\u001b[0;34m\"Mean Squared Error:\"\u001b[0m\u001b[0;34m,\u001b[0m \u001b[0mmse\u001b[0m\u001b[0;34m)\u001b[0m\u001b[0;34m\u001b[0m\u001b[0;34m\u001b[0m\u001b[0m\n",
      "\u001b[0;31mNameError\u001b[0m: name 'mean_squared_error' is not defined"
     ]
    }
   ],
   "source": [
    "y_pred = model.predict(X_test)\n",
    "mse = mean_squared_error(y_test, y_pred)\n",
    "print(\"Mean Squared Error:\", mse)"
   ]
  },
  {
   "cell_type": "code",
   "execution_count": null,
   "id": "toxic-montreal",
   "metadata": {},
   "outputs": [],
   "source": []
  }
 ],
 "metadata": {
  "kernelspec": {
   "display_name": "Python 3",
   "language": "python",
   "name": "python3"
  },
  "language_info": {
   "codemirror_mode": {
    "name": "ipython",
    "version": 3
   },
   "file_extension": ".py",
   "mimetype": "text/x-python",
   "name": "python",
   "nbconvert_exporter": "python",
   "pygments_lexer": "ipython3",
   "version": "3.9.5"
  }
 },
 "nbformat": 4,
 "nbformat_minor": 5
}
