{
 "cells": [
  {
   "cell_type": "code",
   "execution_count": 105,
   "id": "saved-revision",
   "metadata": {},
   "outputs": [],
   "source": [
    "import numpy as np\n",
    "import pandas as pd\n",
    "import matplotlib.pyplot as plt\n",
    "from sklearn.preprocessing import StandardScaler"
   ]
  },
  {
   "cell_type": "code",
   "execution_count": 106,
   "id": "monetary-replication",
   "metadata": {},
   "outputs": [],
   "source": [
    "df = pd.read_csv('data/train.csv')"
   ]
  },
  {
   "cell_type": "code",
   "execution_count": 107,
   "id": "bottom-track",
   "metadata": {
    "scrolled": true
   },
   "outputs": [],
   "source": [
    "df = df[[\n",
    "    'SalePrice',\n",
    "    'LotArea',\n",
    "    'TotalBsmtSF',\n",
    "    'BsmtQual',\n",
    "    'GrLivArea',\n",
    "    '1stFlrSF',\n",
    "    'Fireplaces',\n",
    "    'FireplaceQu',\n",
    "]]\n",
    "\n",
    "# target_mean = df['SalePrice'].mean()\n",
    "# target_std = df['SalePrice'].std()"
   ]
  },
  {
   "cell_type": "code",
   "execution_count": 108,
   "id": "great-evans",
   "metadata": {},
   "outputs": [
    {
     "data": {
      "text/html": [
       "<div>\n",
       "<style scoped>\n",
       "    .dataframe tbody tr th:only-of-type {\n",
       "        vertical-align: middle;\n",
       "    }\n",
       "\n",
       "    .dataframe tbody tr th {\n",
       "        vertical-align: top;\n",
       "    }\n",
       "\n",
       "    .dataframe thead th {\n",
       "        text-align: right;\n",
       "    }\n",
       "</style>\n",
       "<table border=\"1\" class=\"dataframe\">\n",
       "  <thead>\n",
       "    <tr style=\"text-align: right;\">\n",
       "      <th></th>\n",
       "      <th>SalePrice</th>\n",
       "      <th>LotArea</th>\n",
       "      <th>TotalBsmtSF</th>\n",
       "      <th>BsmtQual</th>\n",
       "      <th>GrLivArea</th>\n",
       "      <th>1stFlrSF</th>\n",
       "      <th>Fireplaces</th>\n",
       "      <th>FireplaceQu</th>\n",
       "    </tr>\n",
       "  </thead>\n",
       "  <tbody>\n",
       "    <tr>\n",
       "      <th>0</th>\n",
       "      <td>208500</td>\n",
       "      <td>8450</td>\n",
       "      <td>856</td>\n",
       "      <td>Gd</td>\n",
       "      <td>1710</td>\n",
       "      <td>856</td>\n",
       "      <td>0</td>\n",
       "      <td>NaN</td>\n",
       "    </tr>\n",
       "    <tr>\n",
       "      <th>1</th>\n",
       "      <td>181500</td>\n",
       "      <td>9600</td>\n",
       "      <td>1262</td>\n",
       "      <td>Gd</td>\n",
       "      <td>1262</td>\n",
       "      <td>1262</td>\n",
       "      <td>1</td>\n",
       "      <td>TA</td>\n",
       "    </tr>\n",
       "    <tr>\n",
       "      <th>2</th>\n",
       "      <td>223500</td>\n",
       "      <td>11250</td>\n",
       "      <td>920</td>\n",
       "      <td>Gd</td>\n",
       "      <td>1786</td>\n",
       "      <td>920</td>\n",
       "      <td>1</td>\n",
       "      <td>TA</td>\n",
       "    </tr>\n",
       "    <tr>\n",
       "      <th>3</th>\n",
       "      <td>140000</td>\n",
       "      <td>9550</td>\n",
       "      <td>756</td>\n",
       "      <td>TA</td>\n",
       "      <td>1717</td>\n",
       "      <td>961</td>\n",
       "      <td>1</td>\n",
       "      <td>Gd</td>\n",
       "    </tr>\n",
       "    <tr>\n",
       "      <th>4</th>\n",
       "      <td>250000</td>\n",
       "      <td>14260</td>\n",
       "      <td>1145</td>\n",
       "      <td>Gd</td>\n",
       "      <td>2198</td>\n",
       "      <td>1145</td>\n",
       "      <td>1</td>\n",
       "      <td>TA</td>\n",
       "    </tr>\n",
       "  </tbody>\n",
       "</table>\n",
       "</div>"
      ],
      "text/plain": [
       "   SalePrice  LotArea  TotalBsmtSF BsmtQual  GrLivArea  1stFlrSF  Fireplaces  \\\n",
       "0     208500     8450          856       Gd       1710       856           0   \n",
       "1     181500     9600         1262       Gd       1262      1262           1   \n",
       "2     223500    11250          920       Gd       1786       920           1   \n",
       "3     140000     9550          756       TA       1717       961           1   \n",
       "4     250000    14260         1145       Gd       2198      1145           1   \n",
       "\n",
       "  FireplaceQu  \n",
       "0         NaN  \n",
       "1          TA  \n",
       "2          TA  \n",
       "3          Gd  \n",
       "4          TA  "
      ]
     },
     "execution_count": 108,
     "metadata": {},
     "output_type": "execute_result"
    }
   ],
   "source": [
    "df.head()"
   ]
  },
  {
   "cell_type": "markdown",
   "id": "internal-damages",
   "metadata": {},
   "source": [
    "### Continious Features"
   ]
  },
  {
   "cell_type": "code",
   "execution_count": 109,
   "id": "incomplete-coffee",
   "metadata": {},
   "outputs": [
    {
     "data": {
      "text/html": [
       "<div>\n",
       "<style scoped>\n",
       "    .dataframe tbody tr th:only-of-type {\n",
       "        vertical-align: middle;\n",
       "    }\n",
       "\n",
       "    .dataframe tbody tr th {\n",
       "        vertical-align: top;\n",
       "    }\n",
       "\n",
       "    .dataframe thead th {\n",
       "        text-align: right;\n",
       "    }\n",
       "</style>\n",
       "<table border=\"1\" class=\"dataframe\">\n",
       "  <thead>\n",
       "    <tr style=\"text-align: right;\">\n",
       "      <th></th>\n",
       "      <th>SalePrice</th>\n",
       "      <th>LotArea</th>\n",
       "      <th>TotalBsmtSF</th>\n",
       "      <th>GrLivArea</th>\n",
       "      <th>1stFlrSF</th>\n",
       "    </tr>\n",
       "  </thead>\n",
       "  <tbody>\n",
       "    <tr>\n",
       "      <th>0</th>\n",
       "      <td>208500</td>\n",
       "      <td>8450</td>\n",
       "      <td>856</td>\n",
       "      <td>1710</td>\n",
       "      <td>856</td>\n",
       "    </tr>\n",
       "    <tr>\n",
       "      <th>1</th>\n",
       "      <td>181500</td>\n",
       "      <td>9600</td>\n",
       "      <td>1262</td>\n",
       "      <td>1262</td>\n",
       "      <td>1262</td>\n",
       "    </tr>\n",
       "    <tr>\n",
       "      <th>2</th>\n",
       "      <td>223500</td>\n",
       "      <td>11250</td>\n",
       "      <td>920</td>\n",
       "      <td>1786</td>\n",
       "      <td>920</td>\n",
       "    </tr>\n",
       "    <tr>\n",
       "      <th>3</th>\n",
       "      <td>140000</td>\n",
       "      <td>9550</td>\n",
       "      <td>756</td>\n",
       "      <td>1717</td>\n",
       "      <td>961</td>\n",
       "    </tr>\n",
       "    <tr>\n",
       "      <th>4</th>\n",
       "      <td>250000</td>\n",
       "      <td>14260</td>\n",
       "      <td>1145</td>\n",
       "      <td>2198</td>\n",
       "      <td>1145</td>\n",
       "    </tr>\n",
       "    <tr>\n",
       "      <th>...</th>\n",
       "      <td>...</td>\n",
       "      <td>...</td>\n",
       "      <td>...</td>\n",
       "      <td>...</td>\n",
       "      <td>...</td>\n",
       "    </tr>\n",
       "    <tr>\n",
       "      <th>1455</th>\n",
       "      <td>175000</td>\n",
       "      <td>7917</td>\n",
       "      <td>953</td>\n",
       "      <td>1647</td>\n",
       "      <td>953</td>\n",
       "    </tr>\n",
       "    <tr>\n",
       "      <th>1456</th>\n",
       "      <td>210000</td>\n",
       "      <td>13175</td>\n",
       "      <td>1542</td>\n",
       "      <td>2073</td>\n",
       "      <td>2073</td>\n",
       "    </tr>\n",
       "    <tr>\n",
       "      <th>1457</th>\n",
       "      <td>266500</td>\n",
       "      <td>9042</td>\n",
       "      <td>1152</td>\n",
       "      <td>2340</td>\n",
       "      <td>1188</td>\n",
       "    </tr>\n",
       "    <tr>\n",
       "      <th>1458</th>\n",
       "      <td>142125</td>\n",
       "      <td>9717</td>\n",
       "      <td>1078</td>\n",
       "      <td>1078</td>\n",
       "      <td>1078</td>\n",
       "    </tr>\n",
       "    <tr>\n",
       "      <th>1459</th>\n",
       "      <td>147500</td>\n",
       "      <td>9937</td>\n",
       "      <td>1256</td>\n",
       "      <td>1256</td>\n",
       "      <td>1256</td>\n",
       "    </tr>\n",
       "  </tbody>\n",
       "</table>\n",
       "<p>1460 rows × 5 columns</p>\n",
       "</div>"
      ],
      "text/plain": [
       "      SalePrice  LotArea  TotalBsmtSF  GrLivArea  1stFlrSF\n",
       "0        208500     8450          856       1710       856\n",
       "1        181500     9600         1262       1262      1262\n",
       "2        223500    11250          920       1786       920\n",
       "3        140000     9550          756       1717       961\n",
       "4        250000    14260         1145       2198      1145\n",
       "...         ...      ...          ...        ...       ...\n",
       "1455     175000     7917          953       1647       953\n",
       "1456     210000    13175         1542       2073      2073\n",
       "1457     266500     9042         1152       2340      1188\n",
       "1458     142125     9717         1078       1078      1078\n",
       "1459     147500     9937         1256       1256      1256\n",
       "\n",
       "[1460 rows x 5 columns]"
      ]
     },
     "execution_count": 109,
     "metadata": {},
     "output_type": "execute_result"
    }
   ],
   "source": [
    "continiousRV = df[[\n",
    "    'SalePrice',\n",
    "    'LotArea',\n",
    "    'TotalBsmtSF',\n",
    "    'GrLivArea',\n",
    "    '1stFlrSF',  \n",
    "]]\n",
    "\n",
    "continiousRV"
   ]
  },
  {
   "cell_type": "code",
   "execution_count": 110,
   "id": "amino-reputation",
   "metadata": {},
   "outputs": [
    {
     "data": {
      "text/plain": [
       "SalePrice      0\n",
       "LotArea        0\n",
       "TotalBsmtSF    0\n",
       "GrLivArea      0\n",
       "1stFlrSF       0\n",
       "dtype: int64"
      ]
     },
     "execution_count": 110,
     "metadata": {},
     "output_type": "execute_result"
    }
   ],
   "source": [
    "continiousRV.isna().sum()"
   ]
  },
  {
   "cell_type": "code",
   "execution_count": 111,
   "id": "statutory-pottery",
   "metadata": {},
   "outputs": [],
   "source": [
    "scaler = StandardScaler()"
   ]
  },
  {
   "cell_type": "code",
   "execution_count": 112,
   "id": "intensive-plaza",
   "metadata": {},
   "outputs": [
    {
     "data": {
      "text/html": [
       "<style>#sk-container-id-6 {color: black;background-color: white;}#sk-container-id-6 pre{padding: 0;}#sk-container-id-6 div.sk-toggleable {background-color: white;}#sk-container-id-6 label.sk-toggleable__label {cursor: pointer;display: block;width: 100%;margin-bottom: 0;padding: 0.3em;box-sizing: border-box;text-align: center;}#sk-container-id-6 label.sk-toggleable__label-arrow:before {content: \"▸\";float: left;margin-right: 0.25em;color: #696969;}#sk-container-id-6 label.sk-toggleable__label-arrow:hover:before {color: black;}#sk-container-id-6 div.sk-estimator:hover label.sk-toggleable__label-arrow:before {color: black;}#sk-container-id-6 div.sk-toggleable__content {max-height: 0;max-width: 0;overflow: hidden;text-align: left;background-color: #f0f8ff;}#sk-container-id-6 div.sk-toggleable__content pre {margin: 0.2em;color: black;border-radius: 0.25em;background-color: #f0f8ff;}#sk-container-id-6 input.sk-toggleable__control:checked~div.sk-toggleable__content {max-height: 200px;max-width: 100%;overflow: auto;}#sk-container-id-6 input.sk-toggleable__control:checked~label.sk-toggleable__label-arrow:before {content: \"▾\";}#sk-container-id-6 div.sk-estimator input.sk-toggleable__control:checked~label.sk-toggleable__label {background-color: #d4ebff;}#sk-container-id-6 div.sk-label input.sk-toggleable__control:checked~label.sk-toggleable__label {background-color: #d4ebff;}#sk-container-id-6 input.sk-hidden--visually {border: 0;clip: rect(1px 1px 1px 1px);clip: rect(1px, 1px, 1px, 1px);height: 1px;margin: -1px;overflow: hidden;padding: 0;position: absolute;width: 1px;}#sk-container-id-6 div.sk-estimator {font-family: monospace;background-color: #f0f8ff;border: 1px dotted black;border-radius: 0.25em;box-sizing: border-box;margin-bottom: 0.5em;}#sk-container-id-6 div.sk-estimator:hover {background-color: #d4ebff;}#sk-container-id-6 div.sk-parallel-item::after {content: \"\";width: 100%;border-bottom: 1px solid gray;flex-grow: 1;}#sk-container-id-6 div.sk-label:hover label.sk-toggleable__label {background-color: #d4ebff;}#sk-container-id-6 div.sk-serial::before {content: \"\";position: absolute;border-left: 1px solid gray;box-sizing: border-box;top: 0;bottom: 0;left: 50%;z-index: 0;}#sk-container-id-6 div.sk-serial {display: flex;flex-direction: column;align-items: center;background-color: white;padding-right: 0.2em;padding-left: 0.2em;position: relative;}#sk-container-id-6 div.sk-item {position: relative;z-index: 1;}#sk-container-id-6 div.sk-parallel {display: flex;align-items: stretch;justify-content: center;background-color: white;position: relative;}#sk-container-id-6 div.sk-item::before, #sk-container-id-6 div.sk-parallel-item::before {content: \"\";position: absolute;border-left: 1px solid gray;box-sizing: border-box;top: 0;bottom: 0;left: 50%;z-index: -1;}#sk-container-id-6 div.sk-parallel-item {display: flex;flex-direction: column;z-index: 1;position: relative;background-color: white;}#sk-container-id-6 div.sk-parallel-item:first-child::after {align-self: flex-end;width: 50%;}#sk-container-id-6 div.sk-parallel-item:last-child::after {align-self: flex-start;width: 50%;}#sk-container-id-6 div.sk-parallel-item:only-child::after {width: 0;}#sk-container-id-6 div.sk-dashed-wrapped {border: 1px dashed gray;margin: 0 0.4em 0.5em 0.4em;box-sizing: border-box;padding-bottom: 0.4em;background-color: white;}#sk-container-id-6 div.sk-label label {font-family: monospace;font-weight: bold;display: inline-block;line-height: 1.2em;}#sk-container-id-6 div.sk-label-container {text-align: center;}#sk-container-id-6 div.sk-container {/* jupyter's `normalize.less` sets `[hidden] { display: none; }` but bootstrap.min.css set `[hidden] { display: none !important; }` so we also need the `!important` here to be able to override the default hidden behavior on the sphinx rendered scikit-learn.org. See: https://github.com/scikit-learn/scikit-learn/issues/21755 */display: inline-block !important;position: relative;}#sk-container-id-6 div.sk-text-repr-fallback {display: none;}</style><div id=\"sk-container-id-6\" class=\"sk-top-container\"><div class=\"sk-text-repr-fallback\"><pre>StandardScaler()</pre><b>In a Jupyter environment, please rerun this cell to show the HTML representation or trust the notebook. <br />On GitHub, the HTML representation is unable to render, please try loading this page with nbviewer.org.</b></div><div class=\"sk-container\" hidden><div class=\"sk-item\"><div class=\"sk-estimator sk-toggleable\"><input class=\"sk-toggleable__control sk-hidden--visually\" id=\"sk-estimator-id-6\" type=\"checkbox\" checked><label for=\"sk-estimator-id-6\" class=\"sk-toggleable__label sk-toggleable__label-arrow\">StandardScaler</label><div class=\"sk-toggleable__content\"><pre>StandardScaler()</pre></div></div></div></div></div>"
      ],
      "text/plain": [
       "StandardScaler()"
      ]
     },
     "execution_count": 112,
     "metadata": {},
     "output_type": "execute_result"
    }
   ],
   "source": [
    "scaler.fit(continiousRV)"
   ]
  },
  {
   "cell_type": "code",
   "execution_count": 113,
   "id": "effective-sudan",
   "metadata": {},
   "outputs": [
    {
     "data": {
      "text/plain": [
       "array([[ 0.34727322, -0.20714171, -0.45930254,  0.37033344, -0.79343379],\n",
       "       [ 0.00728832, -0.09188637,  0.46646492, -0.48251191,  0.25714043],\n",
       "       [ 0.53615372,  0.07347998, -0.31336875,  0.51501256, -0.62782603],\n",
       "       ...,\n",
       "       [ 1.07761115, -0.14781027,  0.21564122,  1.56964722,  0.06565646],\n",
       "       [-0.48852299, -0.08016039,  0.04690528, -0.83278768, -0.21898188],\n",
       "       [-0.42084081, -0.05811155,  0.45278362, -0.49393395,  0.2416147 ]])"
      ]
     },
     "execution_count": 113,
     "metadata": {},
     "output_type": "execute_result"
    }
   ],
   "source": [
    "scaled_data = scaler.transform(continiousRV)\n",
    "scaled_data"
   ]
  },
  {
   "cell_type": "code",
   "execution_count": 115,
   "id": "acoustic-wales",
   "metadata": {},
   "outputs": [],
   "source": [
    "df[continiousRV.columns] = scaled_data"
   ]
  },
  {
   "cell_type": "code",
   "execution_count": 116,
   "id": "opened-relevance",
   "metadata": {},
   "outputs": [
    {
     "data": {
      "text/html": [
       "<div>\n",
       "<style scoped>\n",
       "    .dataframe tbody tr th:only-of-type {\n",
       "        vertical-align: middle;\n",
       "    }\n",
       "\n",
       "    .dataframe tbody tr th {\n",
       "        vertical-align: top;\n",
       "    }\n",
       "\n",
       "    .dataframe thead th {\n",
       "        text-align: right;\n",
       "    }\n",
       "</style>\n",
       "<table border=\"1\" class=\"dataframe\">\n",
       "  <thead>\n",
       "    <tr style=\"text-align: right;\">\n",
       "      <th></th>\n",
       "      <th>SalePrice</th>\n",
       "      <th>LotArea</th>\n",
       "      <th>TotalBsmtSF</th>\n",
       "      <th>BsmtQual</th>\n",
       "      <th>GrLivArea</th>\n",
       "      <th>1stFlrSF</th>\n",
       "      <th>Fireplaces</th>\n",
       "      <th>FireplaceQu</th>\n",
       "    </tr>\n",
       "  </thead>\n",
       "  <tbody>\n",
       "    <tr>\n",
       "      <th>0</th>\n",
       "      <td>0.347273</td>\n",
       "      <td>-0.207142</td>\n",
       "      <td>-0.459303</td>\n",
       "      <td>Gd</td>\n",
       "      <td>0.370333</td>\n",
       "      <td>-0.793434</td>\n",
       "      <td>0</td>\n",
       "      <td>NaN</td>\n",
       "    </tr>\n",
       "    <tr>\n",
       "      <th>1</th>\n",
       "      <td>0.007288</td>\n",
       "      <td>-0.091886</td>\n",
       "      <td>0.466465</td>\n",
       "      <td>Gd</td>\n",
       "      <td>-0.482512</td>\n",
       "      <td>0.257140</td>\n",
       "      <td>1</td>\n",
       "      <td>TA</td>\n",
       "    </tr>\n",
       "    <tr>\n",
       "      <th>2</th>\n",
       "      <td>0.536154</td>\n",
       "      <td>0.073480</td>\n",
       "      <td>-0.313369</td>\n",
       "      <td>Gd</td>\n",
       "      <td>0.515013</td>\n",
       "      <td>-0.627826</td>\n",
       "      <td>1</td>\n",
       "      <td>TA</td>\n",
       "    </tr>\n",
       "    <tr>\n",
       "      <th>3</th>\n",
       "      <td>-0.515281</td>\n",
       "      <td>-0.096897</td>\n",
       "      <td>-0.687324</td>\n",
       "      <td>TA</td>\n",
       "      <td>0.383659</td>\n",
       "      <td>-0.521734</td>\n",
       "      <td>1</td>\n",
       "      <td>Gd</td>\n",
       "    </tr>\n",
       "    <tr>\n",
       "      <th>4</th>\n",
       "      <td>0.869843</td>\n",
       "      <td>0.375148</td>\n",
       "      <td>0.199680</td>\n",
       "      <td>Gd</td>\n",
       "      <td>1.299326</td>\n",
       "      <td>-0.045611</td>\n",
       "      <td>1</td>\n",
       "      <td>TA</td>\n",
       "    </tr>\n",
       "    <tr>\n",
       "      <th>...</th>\n",
       "      <td>...</td>\n",
       "      <td>...</td>\n",
       "      <td>...</td>\n",
       "      <td>...</td>\n",
       "      <td>...</td>\n",
       "      <td>...</td>\n",
       "      <td>...</td>\n",
       "      <td>...</td>\n",
       "    </tr>\n",
       "    <tr>\n",
       "      <th>1455</th>\n",
       "      <td>-0.074560</td>\n",
       "      <td>-0.260560</td>\n",
       "      <td>-0.238122</td>\n",
       "      <td>Gd</td>\n",
       "      <td>0.250402</td>\n",
       "      <td>-0.542435</td>\n",
       "      <td>1</td>\n",
       "      <td>TA</td>\n",
       "    </tr>\n",
       "    <tr>\n",
       "      <th>1456</th>\n",
       "      <td>0.366161</td>\n",
       "      <td>0.266407</td>\n",
       "      <td>1.104925</td>\n",
       "      <td>Gd</td>\n",
       "      <td>1.061367</td>\n",
       "      <td>2.355701</td>\n",
       "      <td>2</td>\n",
       "      <td>TA</td>\n",
       "    </tr>\n",
       "    <tr>\n",
       "      <th>1457</th>\n",
       "      <td>1.077611</td>\n",
       "      <td>-0.147810</td>\n",
       "      <td>0.215641</td>\n",
       "      <td>TA</td>\n",
       "      <td>1.569647</td>\n",
       "      <td>0.065656</td>\n",
       "      <td>2</td>\n",
       "      <td>Gd</td>\n",
       "    </tr>\n",
       "    <tr>\n",
       "      <th>1458</th>\n",
       "      <td>-0.488523</td>\n",
       "      <td>-0.080160</td>\n",
       "      <td>0.046905</td>\n",
       "      <td>TA</td>\n",
       "      <td>-0.832788</td>\n",
       "      <td>-0.218982</td>\n",
       "      <td>0</td>\n",
       "      <td>NaN</td>\n",
       "    </tr>\n",
       "    <tr>\n",
       "      <th>1459</th>\n",
       "      <td>-0.420841</td>\n",
       "      <td>-0.058112</td>\n",
       "      <td>0.452784</td>\n",
       "      <td>TA</td>\n",
       "      <td>-0.493934</td>\n",
       "      <td>0.241615</td>\n",
       "      <td>0</td>\n",
       "      <td>NaN</td>\n",
       "    </tr>\n",
       "  </tbody>\n",
       "</table>\n",
       "<p>1460 rows × 8 columns</p>\n",
       "</div>"
      ],
      "text/plain": [
       "      SalePrice   LotArea  TotalBsmtSF BsmtQual  GrLivArea  1stFlrSF  \\\n",
       "0      0.347273 -0.207142    -0.459303       Gd   0.370333 -0.793434   \n",
       "1      0.007288 -0.091886     0.466465       Gd  -0.482512  0.257140   \n",
       "2      0.536154  0.073480    -0.313369       Gd   0.515013 -0.627826   \n",
       "3     -0.515281 -0.096897    -0.687324       TA   0.383659 -0.521734   \n",
       "4      0.869843  0.375148     0.199680       Gd   1.299326 -0.045611   \n",
       "...         ...       ...          ...      ...        ...       ...   \n",
       "1455  -0.074560 -0.260560    -0.238122       Gd   0.250402 -0.542435   \n",
       "1456   0.366161  0.266407     1.104925       Gd   1.061367  2.355701   \n",
       "1457   1.077611 -0.147810     0.215641       TA   1.569647  0.065656   \n",
       "1458  -0.488523 -0.080160     0.046905       TA  -0.832788 -0.218982   \n",
       "1459  -0.420841 -0.058112     0.452784       TA  -0.493934  0.241615   \n",
       "\n",
       "      Fireplaces FireplaceQu  \n",
       "0              0         NaN  \n",
       "1              1          TA  \n",
       "2              1          TA  \n",
       "3              1          Gd  \n",
       "4              1          TA  \n",
       "...          ...         ...  \n",
       "1455           1          TA  \n",
       "1456           2          TA  \n",
       "1457           2          Gd  \n",
       "1458           0         NaN  \n",
       "1459           0         NaN  \n",
       "\n",
       "[1460 rows x 8 columns]"
      ]
     },
     "execution_count": 116,
     "metadata": {},
     "output_type": "execute_result"
    }
   ],
   "source": [
    "df"
   ]
  },
  {
   "cell_type": "markdown",
   "id": "normal-fusion",
   "metadata": {},
   "source": [
    "### Descrete Features"
   ]
  },
  {
   "cell_type": "code",
   "execution_count": 118,
   "id": "infrared-poster",
   "metadata": {},
   "outputs": [
    {
     "data": {
      "text/plain": [
       "BsmtQual        37\n",
       "Fireplaces       0\n",
       "FireplaceQu    690\n",
       "dtype: int64"
      ]
     },
     "execution_count": 118,
     "metadata": {},
     "output_type": "execute_result"
    }
   ],
   "source": [
    "df[[\n",
    "    'BsmtQual',\n",
    "    'Fireplaces',\n",
    "    'FireplaceQu',\n",
    "]].isna().sum()"
   ]
  },
  {
   "cell_type": "markdown",
   "id": "after-redhead",
   "metadata": {},
   "source": [
    "#### Updating null values in BsmtQual to Unknown"
   ]
  },
  {
   "cell_type": "code",
   "execution_count": 119,
   "id": "korean-theory",
   "metadata": {},
   "outputs": [],
   "source": [
    "df['BsmtQual'] = df['BsmtQual'].fillna(value = 'Unknown')"
   ]
  },
  {
   "cell_type": "markdown",
   "id": "defensive-hudson",
   "metadata": {},
   "source": [
    "#### Merging all Fireplaces more than 0 to 1 to make it binary"
   ]
  },
  {
   "cell_type": "code",
   "execution_count": 120,
   "id": "fresh-pension",
   "metadata": {},
   "outputs": [],
   "source": [
    "df.loc[df['Fireplaces'] != 0, 'Fireplaces'] = 1"
   ]
  },
  {
   "cell_type": "markdown",
   "id": "about-might",
   "metadata": {},
   "source": [
    "#### Updating null values in BsmtQual to Unknown"
   ]
  },
  {
   "cell_type": "code",
   "execution_count": 121,
   "id": "synthetic-pacific",
   "metadata": {},
   "outputs": [],
   "source": [
    "df['FireplaceQu'] = df['FireplaceQu'].fillna(value = 'Unknown')"
   ]
  },
  {
   "cell_type": "code",
   "execution_count": 122,
   "id": "serial-working",
   "metadata": {},
   "outputs": [],
   "source": [
    "descreteRV = df[[\n",
    "    'BsmtQual',\n",
    "    'Fireplaces',\n",
    "    'FireplaceQu',\n",
    "]]"
   ]
  },
  {
   "cell_type": "code",
   "execution_count": 123,
   "id": "anonymous-converter",
   "metadata": {},
   "outputs": [
    {
     "data": {
      "text/plain": [
       "BsmtQual       0\n",
       "Fireplaces     0\n",
       "FireplaceQu    0\n",
       "dtype: int64"
      ]
     },
     "execution_count": 123,
     "metadata": {},
     "output_type": "execute_result"
    }
   ],
   "source": [
    "descreteRV.isna().sum()"
   ]
  },
  {
   "cell_type": "code",
   "execution_count": 124,
   "id": "internal-length",
   "metadata": {},
   "outputs": [
    {
     "data": {
      "image/png": "[encoded data removed]",
      "text/plain": [
       "<Figure size 432x288 with 1 Axes>"
      ]
     },
     "metadata": {
      "needs_background": "light"
     },
     "output_type": "display_data"
    },
    {
     "data": {
      "image/png": "[encoded data removed]",
      "text/plain": [
       "<Figure size 432x288 with 1 Axes>"
      ]
     },
     "metadata": {
      "needs_background": "light"
     },
     "output_type": "display_data"
    },
    {
     "data": {
      "image/png": "[encoded data removed]",
      "text/plain": [
       "<Figure size 432x288 with 1 Axes>"
      ]
     },
     "metadata": {
      "needs_background": "light"
     },
     "output_type": "display_data"
    }
   ],
   "source": [
    "for feature in descreteRV:\n",
    "    df.groupby(feature)['SalePrice'].median().plot.bar()\n",
    "    plt.xlabel(feature)\n",
    "    plt.ylabel('Sale Price')\n",
    "    plt.title(feature)\n",
    "    plt.show()"
   ]
  },
  {
   "cell_type": "code",
   "execution_count": 125,
   "id": "secondary-december",
   "metadata": {},
   "outputs": [],
   "source": [
    "group = df.groupby('FireplaceQu')['SalePrice'].median()"
   ]
  },
  {
   "cell_type": "code",
   "execution_count": 131,
   "id": "challenging-likelihood",
   "metadata": {},
   "outputs": [
    {
     "data": {
      "text/plain": [
       "FireplaceQu\n",
       "Ex         1.678881\n",
       "Fa        -0.288624\n",
       "Gd         0.327756\n",
       "Po        -0.622313\n",
       "TA         0.082841\n",
       "Unknown   -0.578241\n",
       "Name: SalePrice, dtype: float64"
      ]
     },
     "execution_count": 131,
     "metadata": {},
     "output_type": "execute_result"
    }
   ],
   "source": [
    "group"
   ]
  },
  {
   "cell_type": "code",
   "execution_count": 132,
   "id": "electric-cursor",
   "metadata": {},
   "outputs": [],
   "source": [
    "for feature in descreteRV:\n",
    "    group = df.groupby(feature)['SalePrice'].median()\n",
    "    for i in range(len(group.index)):\n",
    "        df.loc[df[feature] == group.index[i], feature] = group[i]"
   ]
  },
  {
   "cell_type": "code",
   "execution_count": 133,
   "id": "simplified-stake",
   "metadata": {},
   "outputs": [
    {
     "data": {
      "text/html": [
       "<div>\n",
       "<style scoped>\n",
       "    .dataframe tbody tr th:only-of-type {\n",
       "        vertical-align: middle;\n",
       "    }\n",
       "\n",
       "    .dataframe tbody tr th {\n",
       "        vertical-align: top;\n",
       "    }\n",
       "\n",
       "    .dataframe thead th {\n",
       "        text-align: right;\n",
       "    }\n",
       "</style>\n",
       "<table border=\"1\" class=\"dataframe\">\n",
       "  <thead>\n",
       "    <tr style=\"text-align: right;\">\n",
       "      <th></th>\n",
       "      <th>SalePrice</th>\n",
       "      <th>LotArea</th>\n",
       "      <th>TotalBsmtSF</th>\n",
       "      <th>BsmtQual</th>\n",
       "      <th>GrLivArea</th>\n",
       "      <th>1stFlrSF</th>\n",
       "      <th>Fireplaces</th>\n",
       "      <th>FireplaceQu</th>\n",
       "    </tr>\n",
       "  </thead>\n",
       "  <tbody>\n",
       "    <tr>\n",
       "      <th>0</th>\n",
       "      <td>0.347273</td>\n",
       "      <td>-0.207142</td>\n",
       "      <td>-0.459303</td>\n",
       "      <td>0.140386</td>\n",
       "      <td>0.370333</td>\n",
       "      <td>-0.793434</td>\n",
       "      <td>-0.578241</td>\n",
       "      <td>-0.578241</td>\n",
       "    </tr>\n",
       "    <tr>\n",
       "      <th>1</th>\n",
       "      <td>0.007288</td>\n",
       "      <td>-0.091886</td>\n",
       "      <td>0.466465</td>\n",
       "      <td>0.140386</td>\n",
       "      <td>-0.482512</td>\n",
       "      <td>0.257140</td>\n",
       "      <td>0.126913</td>\n",
       "      <td>0.082841</td>\n",
       "    </tr>\n",
       "    <tr>\n",
       "      <th>2</th>\n",
       "      <td>0.536154</td>\n",
       "      <td>0.073480</td>\n",
       "      <td>-0.313369</td>\n",
       "      <td>0.140386</td>\n",
       "      <td>0.515013</td>\n",
       "      <td>-0.627826</td>\n",
       "      <td>0.126913</td>\n",
       "      <td>0.082841</td>\n",
       "    </tr>\n",
       "    <tr>\n",
       "      <th>3</th>\n",
       "      <td>-0.515281</td>\n",
       "      <td>-0.096897</td>\n",
       "      <td>-0.687324</td>\n",
       "      <td>-0.571945</td>\n",
       "      <td>0.383659</td>\n",
       "      <td>-0.521734</td>\n",
       "      <td>0.126913</td>\n",
       "      <td>0.327756</td>\n",
       "    </tr>\n",
       "    <tr>\n",
       "      <th>4</th>\n",
       "      <td>0.869843</td>\n",
       "      <td>0.375148</td>\n",
       "      <td>0.199680</td>\n",
       "      <td>0.140386</td>\n",
       "      <td>1.299326</td>\n",
       "      <td>-0.045611</td>\n",
       "      <td>0.126913</td>\n",
       "      <td>0.082841</td>\n",
       "    </tr>\n",
       "    <tr>\n",
       "      <th>...</th>\n",
       "      <td>...</td>\n",
       "      <td>...</td>\n",
       "      <td>...</td>\n",
       "      <td>...</td>\n",
       "      <td>...</td>\n",
       "      <td>...</td>\n",
       "      <td>...</td>\n",
       "      <td>...</td>\n",
       "    </tr>\n",
       "    <tr>\n",
       "      <th>1455</th>\n",
       "      <td>-0.074560</td>\n",
       "      <td>-0.260560</td>\n",
       "      <td>-0.238122</td>\n",
       "      <td>0.140386</td>\n",
       "      <td>0.250402</td>\n",
       "      <td>-0.542435</td>\n",
       "      <td>0.126913</td>\n",
       "      <td>0.082841</td>\n",
       "    </tr>\n",
       "    <tr>\n",
       "      <th>1456</th>\n",
       "      <td>0.366161</td>\n",
       "      <td>0.266407</td>\n",
       "      <td>1.104925</td>\n",
       "      <td>0.140386</td>\n",
       "      <td>1.061367</td>\n",
       "      <td>2.355701</td>\n",
       "      <td>0.126913</td>\n",
       "      <td>0.082841</td>\n",
       "    </tr>\n",
       "    <tr>\n",
       "      <th>1457</th>\n",
       "      <td>1.077611</td>\n",
       "      <td>-0.147810</td>\n",
       "      <td>0.215641</td>\n",
       "      <td>-0.571945</td>\n",
       "      <td>1.569647</td>\n",
       "      <td>0.065656</td>\n",
       "      <td>0.126913</td>\n",
       "      <td>0.327756</td>\n",
       "    </tr>\n",
       "    <tr>\n",
       "      <th>1458</th>\n",
       "      <td>-0.488523</td>\n",
       "      <td>-0.080160</td>\n",
       "      <td>0.046905</td>\n",
       "      <td>-0.571945</td>\n",
       "      <td>-0.832788</td>\n",
       "      <td>-0.218982</td>\n",
       "      <td>-0.578241</td>\n",
       "      <td>-0.578241</td>\n",
       "    </tr>\n",
       "    <tr>\n",
       "      <th>1459</th>\n",
       "      <td>-0.420841</td>\n",
       "      <td>-0.058112</td>\n",
       "      <td>0.452784</td>\n",
       "      <td>-0.571945</td>\n",
       "      <td>-0.493934</td>\n",
       "      <td>0.241615</td>\n",
       "      <td>-0.578241</td>\n",
       "      <td>-0.578241</td>\n",
       "    </tr>\n",
       "  </tbody>\n",
       "</table>\n",
       "<p>1460 rows × 8 columns</p>\n",
       "</div>"
      ],
      "text/plain": [
       "      SalePrice   LotArea  TotalBsmtSF  BsmtQual  GrLivArea  1stFlrSF  \\\n",
       "0      0.347273 -0.207142    -0.459303  0.140386   0.370333 -0.793434   \n",
       "1      0.007288 -0.091886     0.466465  0.140386  -0.482512  0.257140   \n",
       "2      0.536154  0.073480    -0.313369  0.140386   0.515013 -0.627826   \n",
       "3     -0.515281 -0.096897    -0.687324 -0.571945   0.383659 -0.521734   \n",
       "4      0.869843  0.375148     0.199680  0.140386   1.299326 -0.045611   \n",
       "...         ...       ...          ...       ...        ...       ...   \n",
       "1455  -0.074560 -0.260560    -0.238122  0.140386   0.250402 -0.542435   \n",
       "1456   0.366161  0.266407     1.104925  0.140386   1.061367  2.355701   \n",
       "1457   1.077611 -0.147810     0.215641 -0.571945   1.569647  0.065656   \n",
       "1458  -0.488523 -0.080160     0.046905 -0.571945  -0.832788 -0.218982   \n",
       "1459  -0.420841 -0.058112     0.452784 -0.571945  -0.493934  0.241615   \n",
       "\n",
       "      Fireplaces FireplaceQu  \n",
       "0      -0.578241   -0.578241  \n",
       "1       0.126913    0.082841  \n",
       "2       0.126913    0.082841  \n",
       "3       0.126913    0.327756  \n",
       "4       0.126913    0.082841  \n",
       "...          ...         ...  \n",
       "1455    0.126913    0.082841  \n",
       "1456    0.126913    0.082841  \n",
       "1457    0.126913    0.327756  \n",
       "1458   -0.578241   -0.578241  \n",
       "1459   -0.578241   -0.578241  \n",
       "\n",
       "[1460 rows x 8 columns]"
      ]
     },
     "execution_count": 133,
     "metadata": {},
     "output_type": "execute_result"
    }
   ],
   "source": [
    "df"
   ]
  },
  {
   "cell_type": "markdown",
   "id": "distinguished-companion",
   "metadata": {},
   "source": [
    "## Training"
   ]
  },
  {
   "cell_type": "code",
   "execution_count": 134,
   "id": "guided-reputation",
   "metadata": {},
   "outputs": [],
   "source": [
    "from sklearn.linear_model import LinearRegression\n",
    "from sklearn.model_selection import train_test_split\n",
    "from sklearn.metrics import mean_squared_error"
   ]
  },
  {
   "cell_type": "code",
   "execution_count": 135,
   "id": "smart-rogers",
   "metadata": {},
   "outputs": [],
   "source": [
    "X = df.drop('SalePrice', axis = 1)"
   ]
  },
  {
   "cell_type": "code",
   "execution_count": 136,
   "id": "isolated-possibility",
   "metadata": {},
   "outputs": [],
   "source": [
    "y = df['SalePrice']"
   ]
  },
  {
   "cell_type": "code",
   "execution_count": 137,
   "id": "forward-secondary",
   "metadata": {},
   "outputs": [],
   "source": [
    "X_train, X_test, y_train, y_test = train_test_split(X, y, test_size = 0.2, random_state = 50)"
   ]
  },
  {
   "cell_type": "code",
   "execution_count": 138,
   "id": "spoken-testimony",
   "metadata": {},
   "outputs": [],
   "source": [
    "model = LinearRegression()"
   ]
  },
  {
   "cell_type": "code",
   "execution_count": 139,
   "id": "afraid-gauge",
   "metadata": {
    "scrolled": true
   },
   "outputs": [
    {
     "data": {
      "text/html": [
       "<style>#sk-container-id-7 {color: black;background-color: white;}#sk-container-id-7 pre{padding: 0;}#sk-container-id-7 div.sk-toggleable {background-color: white;}#sk-container-id-7 label.sk-toggleable__label {cursor: pointer;display: block;width: 100%;margin-bottom: 0;padding: 0.3em;box-sizing: border-box;text-align: center;}#sk-container-id-7 label.sk-toggleable__label-arrow:before {content: \"▸\";float: left;margin-right: 0.25em;color: #696969;}#sk-container-id-7 label.sk-toggleable__label-arrow:hover:before {color: black;}#sk-container-id-7 div.sk-estimator:hover label.sk-toggleable__label-arrow:before {color: black;}#sk-container-id-7 div.sk-toggleable__content {max-height: 0;max-width: 0;overflow: hidden;text-align: left;background-color: #f0f8ff;}#sk-container-id-7 div.sk-toggleable__content pre {margin: 0.2em;color: black;border-radius: 0.25em;background-color: #f0f8ff;}#sk-container-id-7 input.sk-toggleable__control:checked~div.sk-toggleable__content {max-height: 200px;max-width: 100%;overflow: auto;}#sk-container-id-7 input.sk-toggleable__control:checked~label.sk-toggleable__label-arrow:before {content: \"▾\";}#sk-container-id-7 div.sk-estimator input.sk-toggleable__control:checked~label.sk-toggleable__label {background-color: #d4ebff;}#sk-container-id-7 div.sk-label input.sk-toggleable__control:checked~label.sk-toggleable__label {background-color: #d4ebff;}#sk-container-id-7 input.sk-hidden--visually {border: 0;clip: rect(1px 1px 1px 1px);clip: rect(1px, 1px, 1px, 1px);height: 1px;margin: -1px;overflow: hidden;padding: 0;position: absolute;width: 1px;}#sk-container-id-7 div.sk-estimator {font-family: monospace;background-color: #f0f8ff;border: 1px dotted black;border-radius: 0.25em;box-sizing: border-box;margin-bottom: 0.5em;}#sk-container-id-7 div.sk-estimator:hover {background-color: #d4ebff;}#sk-container-id-7 div.sk-parallel-item::after {content: \"\";width: 100%;border-bottom: 1px solid gray;flex-grow: 1;}#sk-container-id-7 div.sk-label:hover label.sk-toggleable__label {background-color: #d4ebff;}#sk-container-id-7 div.sk-serial::before {content: \"\";position: absolute;border-left: 1px solid gray;box-sizing: border-box;top: 0;bottom: 0;left: 50%;z-index: 0;}#sk-container-id-7 div.sk-serial {display: flex;flex-direction: column;align-items: center;background-color: white;padding-right: 0.2em;padding-left: 0.2em;position: relative;}#sk-container-id-7 div.sk-item {position: relative;z-index: 1;}#sk-container-id-7 div.sk-parallel {display: flex;align-items: stretch;justify-content: center;background-color: white;position: relative;}#sk-container-id-7 div.sk-item::before, #sk-container-id-7 div.sk-parallel-item::before {content: \"\";position: absolute;border-left: 1px solid gray;box-sizing: border-box;top: 0;bottom: 0;left: 50%;z-index: -1;}#sk-container-id-7 div.sk-parallel-item {display: flex;flex-direction: column;z-index: 1;position: relative;background-color: white;}#sk-container-id-7 div.sk-parallel-item:first-child::after {align-self: flex-end;width: 50%;}#sk-container-id-7 div.sk-parallel-item:last-child::after {align-self: flex-start;width: 50%;}#sk-container-id-7 div.sk-parallel-item:only-child::after {width: 0;}#sk-container-id-7 div.sk-dashed-wrapped {border: 1px dashed gray;margin: 0 0.4em 0.5em 0.4em;box-sizing: border-box;padding-bottom: 0.4em;background-color: white;}#sk-container-id-7 div.sk-label label {font-family: monospace;font-weight: bold;display: inline-block;line-height: 1.2em;}#sk-container-id-7 div.sk-label-container {text-align: center;}#sk-container-id-7 div.sk-container {/* jupyter's `normalize.less` sets `[hidden] { display: none; }` but bootstrap.min.css set `[hidden] { display: none !important; }` so we also need the `!important` here to be able to override the default hidden behavior on the sphinx rendered scikit-learn.org. See: https://github.com/scikit-learn/scikit-learn/issues/21755 */display: inline-block !important;position: relative;}#sk-container-id-7 div.sk-text-repr-fallback {display: none;}</style><div id=\"sk-container-id-7\" class=\"sk-top-container\"><div class=\"sk-text-repr-fallback\"><pre>LinearRegression()</pre><b>In a Jupyter environment, please rerun this cell to show the HTML representation or trust the notebook. <br />On GitHub, the HTML representation is unable to render, please try loading this page with nbviewer.org.</b></div><div class=\"sk-container\" hidden><div class=\"sk-item\"><div class=\"sk-estimator sk-toggleable\"><input class=\"sk-toggleable__control sk-hidden--visually\" id=\"sk-estimator-id-7\" type=\"checkbox\" checked><label for=\"sk-estimator-id-7\" class=\"sk-toggleable__label sk-toggleable__label-arrow\">LinearRegression</label><div class=\"sk-toggleable__content\"><pre>LinearRegression()</pre></div></div></div></div></div>"
      ],
      "text/plain": [
       "LinearRegression()"
      ]
     },
     "execution_count": 139,
     "metadata": {},
     "output_type": "execute_result"
    }
   ],
   "source": [
    "model.fit(X_train, y_train)"
   ]
  },
  {
   "cell_type": "code",
   "execution_count": 140,
   "id": "legislative-emphasis",
   "metadata": {},
   "outputs": [],
   "source": [
    "y_pred = model.predict(X_test)"
   ]
  },
  {
   "cell_type": "code",
   "execution_count": 142,
   "id": "boring-geneva",
   "metadata": {},
   "outputs": [
    {
     "name": "stdout",
     "output_type": "stream",
     "text": [
      "Mean Squared Error: 0.20443391716776055\n"
     ]
    }
   ],
   "source": [
    "mse = mean_squared_error(y_test, y_pred)\n",
    "print(\"Mean Squared Error:\", mse)"
   ]
  },
  {
   "cell_type": "code",
   "execution_count": 143,
   "id": "persistent-marks",
   "metadata": {
    "scrolled": true
   },
   "outputs": [
    {
     "data": {
      "image/png": "[encoded data removed]",
      "text/plain": [
       "<Figure size 432x288 with 1 Axes>"
      ]
     },
     "metadata": {
      "needs_background": "light"
     },
     "output_type": "display_data"
    }
   ],
   "source": [
    "plt.scatter(y_pred, y_test)\n",
    "plt.show()"
   ]
  },
  {
   "cell_type": "code",
   "execution_count": 151,
   "id": "wound-contractor",
   "metadata": {},
   "outputs": [
    {
     "data": {
      "text/plain": [
       "1.8344659386587434"
      ]
     },
     "execution_count": 151,
     "metadata": {},
     "output_type": "execute_result"
    }
   ],
   "source": [
    "(y_test / y_pred).mean()"
   ]
  },
  {
   "cell_type": "code",
   "execution_count": 152,
   "id": "finnish-newfoundland",
   "metadata": {
    "scrolled": true
   },
   "outputs": [
    {
     "data": {
      "image/png": "[encoded data removed]",
      "text/plain": [
       "<Figure size 432x288 with 1 Axes>"
      ]
     },
     "metadata": {
      "needs_background": "light"
     },
     "output_type": "display_data"
    }
   ],
   "source": [
    "err = y_test - y_pred\n",
    "plt.hist(err)\n",
    "plt.show()"
   ]
  },
  {
   "cell_type": "code",
   "execution_count": 153,
   "id": "scheduled-whole",
   "metadata": {},
   "outputs": [
    {
     "data": {
      "text/plain": [
       "count    292.000000\n",
       "mean       0.019312\n",
       "std        0.452507\n",
       "min       -1.216462\n",
       "25%       -0.244525\n",
       "50%        0.001087\n",
       "75%        0.224545\n",
       "max        2.326724\n",
       "Name: SalePrice, dtype: float64"
      ]
     },
     "execution_count": 153,
     "metadata": {},
     "output_type": "execute_result"
    }
   ],
   "source": [
    "err.describe()"
   ]
  },
  {
   "cell_type": "code",
   "execution_count": 154,
   "id": "distributed-messaging",
   "metadata": {},
   "outputs": [],
   "source": [
    "adj_pred = y_pred + err.mean()"
   ]
  },
  {
   "cell_type": "code",
   "execution_count": 155,
   "id": "pleasant-thanksgiving",
   "metadata": {},
   "outputs": [
    {
     "data": {
      "image/png": "[encoded data removed]",
      "text/plain": [
       "<Figure size 432x288 with 1 Axes>"
      ]
     },
     "metadata": {
      "needs_background": "light"
     },
     "output_type": "display_data"
    }
   ],
   "source": [
    "plt.scatter(adj_pred, y_test)\n",
    "plt.show()"
   ]
  },
  {
   "cell_type": "code",
   "execution_count": 156,
   "id": "communist-skiing",
   "metadata": {},
   "outputs": [
    {
     "data": {
      "text/plain": [
       "1.0225848148132606"
      ]
     },
     "execution_count": 156,
     "metadata": {},
     "output_type": "execute_result"
    }
   ],
   "source": [
    "(y_test / adj_pred).mean()"
   ]
  },
  {
   "cell_type": "code",
   "execution_count": null,
   "id": "controlled-finish",
   "metadata": {},
   "outputs": [],
   "source": []
  },
  {
   "cell_type": "code",
   "execution_count": null,
   "id": "interior-marriage",
   "metadata": {},
   "outputs": [],
   "source": []
  }
 ],
 "metadata": {
  "kernelspec": {
   "display_name": "Python 3",
   "language": "python",
   "name": "python3"
  },
  "language_info": {
   "codemirror_mode": {
    "name": "ipython",
    "version": 3
   },
   "file_extension": ".py",
   "mimetype": "text/x-python",
   "name": "python",
   "nbconvert_exporter": "python",
   "pygments_lexer": "ipython3",
   "version": "3.9.5"
  }
 },
 "nbformat": 4,
 "nbformat_minor": 5
}
